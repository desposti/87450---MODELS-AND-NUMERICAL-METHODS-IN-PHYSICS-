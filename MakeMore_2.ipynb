{
 "cells": [
  {
   "cell_type": "code",
   "execution_count": null,
   "id": "5cca4296",
   "metadata": {},
   "outputs": [],
   "source": [
    "# https://youtu.be/TCH_1BHY58I\n",
    "# https://github.com/karpathy/makemore "
   ]
  },
  {
   "cell_type": "code",
   "execution_count": 6,
   "id": "e238a95a",
   "metadata": {},
   "outputs": [],
   "source": [
    "# we now go to MLP (multilayer perceptron)....(using NLP (natural language processing))\n",
    "# 'a neural probabilistic language model' (2003) chrome-extension://efaidnbmnnnibpcajpcglclefindmkaj/https://www.jmlr.org/papers/volume3/bengio03a/bengio03a.pdf\n",
    "# embedding of words and transfer knowledge....comment in class....\n",
    "# fig 1: 4th word predicted after the three....\n",
    "import random\n",
    "import torch\n",
    "import torch.nn.functional as  F\n",
    "import matplotlib.pyplot as plt #for making figures\n",
    "%matplotlib inline"
   ]
  },
  {
   "cell_type": "code",
   "execution_count": 7,
   "id": "e63e6dbb",
   "metadata": {},
   "outputs": [
    {
     "data": {
      "text/plain": [
       "['argento',\n",
       " 'giovannino',\n",
       " 'licurga',\n",
       " 'elvira',\n",
       " 'marena',\n",
       " 'sirio',\n",
       " 'emilia',\n",
       " 'bisio',\n",
       " 'preziosa',\n",
       " 'perpetua']"
      ]
     },
     "execution_count": 7,
     "metadata": {},
     "output_type": "execute_result"
    }
   ],
   "source": [
    "# read in all the words\n",
    "random.seed(158)\n",
    "words=open('Data/nomi_italiani.txt','r').read().splitlines()\n",
    "random.shuffle(words)\n",
    "words[0:10]"
   ]
  },
  {
   "cell_type": "code",
   "execution_count": 8,
   "id": "56c17ce7",
   "metadata": {},
   "outputs": [
    {
     "data": {
      "text/plain": [
       "9105"
      ]
     },
     "execution_count": 8,
     "metadata": {},
     "output_type": "execute_result"
    }
   ],
   "source": [
    "len(words)"
   ]
  },
  {
   "cell_type": "code",
   "execution_count": 9,
   "id": "3506c24c",
   "metadata": {},
   "outputs": [
    {
     "name": "stdout",
     "output_type": "stream",
     "text": [
      "{1: '-', 2: 'a', 3: 'b', 4: 'c', 5: 'd', 6: 'e', 7: 'f', 8: 'g', 9: 'h', 10: 'i', 11: 'j', 12: 'k', 13: 'l', 14: 'm', 15: 'n', 16: 'o', 17: 'p', 18: 'q', 19: 'r', 20: 's', 21: 't', 22: 'u', 23: 'v', 24: 'w', 25: 'x', 26: 'y', 27: 'z', 0: '.'}\n",
      "{'-': 1, 'a': 2, 'b': 3, 'c': 4, 'd': 5, 'e': 6, 'f': 7, 'g': 8, 'h': 9, 'i': 10, 'j': 11, 'k': 12, 'l': 13, 'm': 14, 'n': 15, 'o': 16, 'p': 17, 'q': 18, 'r': 19, 's': 20, 't': 21, 'u': 22, 'v': 23, 'w': 24, 'x': 25, 'y': 26, 'z': 27, '.': 0}\n"
     ]
    }
   ],
   "source": [
    "# build the vocabulary of characters and mapping to/from integers\n",
    "chars=sorted(list(set(''.join(words))))\n",
    "\n",
    "stoi={s:i+1 for i,s in enumerate(chars)}\n",
    "stoi['.']=0\n",
    "itos ={i:s for s,i in stoi.items()}\n",
    "print(itos)\n",
    "print(stoi)"
   ]
  },
  {
   "cell_type": "code",
   "execution_count": 10,
   "id": "dae3f065",
   "metadata": {},
   "outputs": [
    {
     "name": "stdout",
     "output_type": "stream",
     "text": [
      "argento\n",
      "... ---> a\n",
      "..a ---> r\n",
      ".ar ---> g\n",
      "arg ---> e\n",
      "rge ---> n\n",
      "gen ---> t\n",
      "ent ---> o\n",
      "nto ---> .\n",
      "giovannino\n",
      "... ---> g\n",
      "..g ---> i\n",
      ".gi ---> o\n",
      "gio ---> v\n",
      "iov ---> a\n",
      "ova ---> n\n",
      "van ---> n\n",
      "ann ---> i\n",
      "nni ---> n\n",
      "nin ---> o\n",
      "ino ---> .\n",
      "licurga\n",
      "... ---> l\n",
      "..l ---> i\n",
      ".li ---> c\n",
      "lic ---> u\n",
      "icu ---> r\n",
      "cur ---> g\n",
      "urg ---> a\n",
      "rga ---> .\n",
      "elvira\n",
      "... ---> e\n",
      "..e ---> l\n",
      ".el ---> v\n",
      "elv ---> i\n",
      "lvi ---> r\n",
      "vir ---> a\n",
      "ira ---> .\n",
      "marena\n",
      "... ---> m\n",
      "..m ---> a\n",
      ".ma ---> r\n",
      "mar ---> e\n",
      "are ---> n\n",
      "ren ---> a\n",
      "ena ---> .\n"
     ]
    }
   ],
   "source": [
    "# build the dataset\n",
    "\n",
    "block_size =3 #context length: how many characters do we take to predict the next one ... change it !!\n",
    "# try: block_size=1 ...Markov Chain, then try = 2 and =10\n",
    "X,Y = [],[]  # input & label\n",
    "\n",
    "for w in words[0:5]:\n",
    "    print(w)\n",
    "    context=[0]*block_size\n",
    "    for ch in w +'.':\n",
    "        ix=stoi[ch]\n",
    "        X.append(context)\n",
    "        Y.append(ix)\n",
    "        print(''.join(itos[i] for i in context), '--->', itos[ix])\n",
    "        context=context[1:]+[ix]  # shift: crop and append\n",
    "X=torch.tensor(X)\n",
    "Y=torch.tensor(Y)"
   ]
  },
  {
   "cell_type": "code",
   "execution_count": 13,
   "id": "8f1500c0",
   "metadata": {},
   "outputs": [
    {
     "data": {
      "text/plain": [
       "tensor([ 2, 19,  8,  6, 15, 21, 16,  0,  8, 10, 16, 23,  2, 15, 15, 10, 15, 16,\n",
       "         0, 13, 10,  4, 22, 19,  8,  2,  0,  6, 13, 23, 10, 19,  2,  0, 14,  2,\n",
       "        19,  6, 15,  2,  0])"
      ]
     },
     "execution_count": 13,
     "metadata": {},
     "output_type": "execute_result"
    }
   ],
   "source": [
    "Y"
   ]
  },
  {
   "cell_type": "code",
   "execution_count": 14,
   "id": "3fd86d6a",
   "metadata": {},
   "outputs": [
    {
     "data": {
      "text/plain": [
       "(torch.Size([41, 3]), torch.int64, torch.Size([41]), torch.int64)"
      ]
     },
     "execution_count": 14,
     "metadata": {},
     "output_type": "execute_result"
    }
   ],
   "source": [
    "X.shape, X.dtype,Y.shape,Y.dtype"
   ]
  },
  {
   "cell_type": "code",
   "execution_count": 15,
   "id": "9c9dc058",
   "metadata": {},
   "outputs": [
    {
     "data": {
      "text/plain": [
       "tensor([[ 0,  0,  0],\n",
       "        [ 0,  0,  2],\n",
       "        [ 0,  2, 19],\n",
       "        [ 2, 19,  8],\n",
       "        [19,  8,  6],\n",
       "        [ 8,  6, 15],\n",
       "        [ 6, 15, 21],\n",
       "        [15, 21, 16],\n",
       "        [ 0,  0,  0],\n",
       "        [ 0,  0,  8],\n",
       "        [ 0,  8, 10],\n",
       "        [ 8, 10, 16],\n",
       "        [10, 16, 23],\n",
       "        [16, 23,  2],\n",
       "        [23,  2, 15],\n",
       "        [ 2, 15, 15],\n",
       "        [15, 15, 10],\n",
       "        [15, 10, 15],\n",
       "        [10, 15, 16],\n",
       "        [ 0,  0,  0],\n",
       "        [ 0,  0, 13],\n",
       "        [ 0, 13, 10],\n",
       "        [13, 10,  4],\n",
       "        [10,  4, 22],\n",
       "        [ 4, 22, 19],\n",
       "        [22, 19,  8],\n",
       "        [19,  8,  2],\n",
       "        [ 0,  0,  0],\n",
       "        [ 0,  0,  6],\n",
       "        [ 0,  6, 13],\n",
       "        [ 6, 13, 23],\n",
       "        [13, 23, 10],\n",
       "        [23, 10, 19],\n",
       "        [10, 19,  2],\n",
       "        [ 0,  0,  0],\n",
       "        [ 0,  0, 14],\n",
       "        [ 0, 14,  2],\n",
       "        [14,  2, 19],\n",
       "        [ 2, 19,  6],\n",
       "        [19,  6, 15],\n",
       "        [ 6, 15,  2]])"
      ]
     },
     "execution_count": 15,
     "metadata": {},
     "output_type": "execute_result"
    }
   ],
   "source": [
    "X"
   ]
  },
  {
   "cell_type": "code",
   "execution_count": 135,
   "id": "1e8ee26d",
   "metadata": {},
   "outputs": [
    {
     "data": {
      "text/plain": [
       "tensor([ 2, 19,  8,  6, 15, 21, 16,  0,  8, 10, 16, 23,  2, 15, 15, 10, 15, 16,\n",
       "         0, 13, 10,  4, 22, 19,  8,  2,  0,  6, 13, 23, 10, 19,  2,  0, 14,  2,\n",
       "        19,  6, 15,  2,  0])"
      ]
     },
     "execution_count": 135,
     "metadata": {},
     "output_type": "execute_result"
    }
   ],
   "source": [
    "Y"
   ]
  },
  {
   "cell_type": "code",
   "execution_count": 136,
   "id": "77d08971",
   "metadata": {},
   "outputs": [],
   "source": [
    "# we want a model that input X and predict Y ......\n",
    "# first  the embedding in d= 2 of the 28 th character ( in the paper d=30 with a 17k vocabulary...)"
   ]
  },
  {
   "cell_type": "code",
   "execution_count": 16,
   "id": "cd4cc509",
   "metadata": {},
   "outputs": [],
   "source": [
    "C=torch.randn((28,2))  #https://pytorch.org/docs/stable/generated/torch.randn.html"
   ]
  },
  {
   "cell_type": "code",
   "execution_count": 17,
   "id": "cba002d9",
   "metadata": {},
   "outputs": [
    {
     "data": {
      "text/plain": [
       "tensor([-1.0573, -0.8230])"
      ]
     },
     "execution_count": 17,
     "metadata": {},
     "output_type": "execute_result"
    }
   ],
   "source": [
    "C[5] # equivalent to one-hot encording....!! index= neuron input...first layer...comment in class"
   ]
  },
  {
   "cell_type": "code",
   "execution_count": 18,
   "id": "69744acd",
   "metadata": {},
   "outputs": [
    {
     "data": {
      "text/plain": [
       "torch.Size([28, 2])"
      ]
     },
     "execution_count": 18,
     "metadata": {},
     "output_type": "execute_result"
    }
   ],
   "source": [
    "C.shape"
   ]
  },
  {
   "cell_type": "code",
   "execution_count": 19,
   "id": "33c3de1e",
   "metadata": {},
   "outputs": [
    {
     "data": {
      "image/png": "[encoded data removed]",
      "text/plain": [
       "<Figure size 576x576 with 1 Axes>"
      ]
     },
     "metadata": {
      "needs_background": "light"
     },
     "output_type": "display_data"
    }
   ],
   "source": [
    "#visualizing the embedding.....\n",
    "\n",
    "plt.figure(figsize=(8,8))\n",
    "plt.scatter(C[:,0].data, C[:,1].data,s=200)\n",
    "for i in range(C.shape[0]):\n",
    "    plt.text(C[i,0].item(), C[i,1].item(),itos[i], ha=\"center\",va=\"center\", color=\"white\")\n",
    "    plt.grid('minor')\n",
    "    \n",
    "    \n"
   ]
  },
  {
   "cell_type": "code",
   "execution_count": 20,
   "id": "dd6ffec1",
   "metadata": {},
   "outputs": [
    {
     "data": {
      "text/plain": [
       "tensor([0, 0, 0, 0, 0, 1, 0, 0, 0, 0, 0, 0, 0, 0, 0, 0, 0, 0, 0, 0, 0, 0, 0, 0,\n",
       "        0, 0, 0, 0])"
      ]
     },
     "execution_count": 20,
     "metadata": {},
     "output_type": "execute_result"
    }
   ],
   "source": [
    "F.one_hot(torch.tensor(5),num_classes=28)  #comment this in class....."
   ]
  },
  {
   "cell_type": "code",
   "execution_count": 21,
   "id": "ac89a83b",
   "metadata": {},
   "outputs": [
    {
     "data": {
      "text/plain": [
       "tensor([-1.0573, -0.8230])"
      ]
     },
     "execution_count": 21,
     "metadata": {},
     "output_type": "execute_result"
    }
   ],
   "source": [
    "F.one_hot(torch.tensor(5),num_classes=28).float()@C   #comment this in class....."
   ]
  },
  {
   "cell_type": "code",
   "execution_count": 143,
   "id": "41c2f3b3",
   "metadata": {},
   "outputs": [],
   "source": [
    "# i.e. the first (linear) layer (fig. in the paper)....."
   ]
  },
  {
   "cell_type": "code",
   "execution_count": 22,
   "id": "8a2d5d89",
   "metadata": {},
   "outputs": [
    {
     "data": {
      "text/plain": [
       "torch.Size([41, 3])"
      ]
     },
     "execution_count": 22,
     "metadata": {},
     "output_type": "execute_result"
    }
   ],
   "source": [
    "X.shape"
   ]
  },
  {
   "cell_type": "code",
   "execution_count": 23,
   "id": "1cbddf91",
   "metadata": {},
   "outputs": [
    {
     "data": {
      "text/plain": [
       "torch.Size([41, 3, 2])"
      ]
     },
     "execution_count": 23,
     "metadata": {},
     "output_type": "execute_result"
    }
   ],
   "source": [
    "# How we embed the 41 3-ngram's ??\n",
    "emb=C[X] # the beauty of tensor....\n",
    "emb.shape"
   ]
  },
  {
   "cell_type": "code",
   "execution_count": 24,
   "id": "efc74e3e",
   "metadata": {},
   "outputs": [],
   "source": [
    "# moreover C is also \"differentiable\" !!"
   ]
  },
  {
   "cell_type": "code",
   "execution_count": 25,
   "id": "48f4a7cd",
   "metadata": {},
   "outputs": [
    {
     "data": {
      "text/plain": [
       "tensor([23,  2, 15])"
      ]
     },
     "execution_count": 25,
     "metadata": {},
     "output_type": "execute_result"
    }
   ],
   "source": [
    "X[14]"
   ]
  },
  {
   "cell_type": "code",
   "execution_count": 26,
   "id": "0afc00aa",
   "metadata": {},
   "outputs": [
    {
     "data": {
      "text/plain": [
       "tensor(15)"
      ]
     },
     "execution_count": 26,
     "metadata": {},
     "output_type": "execute_result"
    }
   ],
   "source": [
    "X[14,2]"
   ]
  },
  {
   "cell_type": "code",
   "execution_count": 27,
   "id": "5ad684c6",
   "metadata": {},
   "outputs": [
    {
     "data": {
      "text/plain": [
       "tensor([[[-0.7329,  0.0035],\n",
       "         [-0.7329,  0.0035],\n",
       "         [-0.7329,  0.0035]],\n",
       "\n",
       "        [[-0.7329,  0.0035],\n",
       "         [-0.7329,  0.0035],\n",
       "         [-1.7652, -1.3083]],\n",
       "\n",
       "        [[-0.7329,  0.0035],\n",
       "         [-1.7652, -1.3083],\n",
       "         [-0.0843, -0.5756]],\n",
       "\n",
       "        [[-1.7652, -1.3083],\n",
       "         [-0.0843, -0.5756],\n",
       "         [ 2.1483, -0.6080]],\n",
       "\n",
       "        [[-0.0843, -0.5756],\n",
       "         [ 2.1483, -0.6080],\n",
       "         [-1.4823,  0.6944]],\n",
       "\n",
       "        [[ 2.1483, -0.6080],\n",
       "         [-1.4823,  0.6944],\n",
       "         [-0.0478,  0.7857]],\n",
       "\n",
       "        [[-1.4823,  0.6944],\n",
       "         [-0.0478,  0.7857],\n",
       "         [ 1.9068,  1.6073]],\n",
       "\n",
       "        [[-0.0478,  0.7857],\n",
       "         [ 1.9068,  1.6073],\n",
       "         [ 1.3554, -0.1196]],\n",
       "\n",
       "        [[-0.7329,  0.0035],\n",
       "         [-0.7329,  0.0035],\n",
       "         [-0.7329,  0.0035]],\n",
       "\n",
       "        [[-0.7329,  0.0035],\n",
       "         [-0.7329,  0.0035],\n",
       "         [ 2.1483, -0.6080]],\n",
       "\n",
       "        [[-0.7329,  0.0035],\n",
       "         [ 2.1483, -0.6080],\n",
       "         [ 0.3319,  1.2316]],\n",
       "\n",
       "        [[ 2.1483, -0.6080],\n",
       "         [ 0.3319,  1.2316],\n",
       "         [ 1.3554, -0.1196]],\n",
       "\n",
       "        [[ 0.3319,  1.2316],\n",
       "         [ 1.3554, -0.1196],\n",
       "         [ 0.8822, -0.5451]],\n",
       "\n",
       "        [[ 1.3554, -0.1196],\n",
       "         [ 0.8822, -0.5451],\n",
       "         [-1.7652, -1.3083]],\n",
       "\n",
       "        [[ 0.8822, -0.5451],\n",
       "         [-1.7652, -1.3083],\n",
       "         [-0.0478,  0.7857]],\n",
       "\n",
       "        [[-1.7652, -1.3083],\n",
       "         [-0.0478,  0.7857],\n",
       "         [-0.0478,  0.7857]],\n",
       "\n",
       "        [[-0.0478,  0.7857],\n",
       "         [-0.0478,  0.7857],\n",
       "         [ 0.3319,  1.2316]],\n",
       "\n",
       "        [[-0.0478,  0.7857],\n",
       "         [ 0.3319,  1.2316],\n",
       "         [-0.0478,  0.7857]],\n",
       "\n",
       "        [[ 0.3319,  1.2316],\n",
       "         [-0.0478,  0.7857],\n",
       "         [ 1.3554, -0.1196]],\n",
       "\n",
       "        [[-0.7329,  0.0035],\n",
       "         [-0.7329,  0.0035],\n",
       "         [-0.7329,  0.0035]],\n",
       "\n",
       "        [[-0.7329,  0.0035],\n",
       "         [-0.7329,  0.0035],\n",
       "         [-1.1110, -0.9301]],\n",
       "\n",
       "        [[-0.7329,  0.0035],\n",
       "         [-1.1110, -0.9301],\n",
       "         [ 0.3319,  1.2316]],\n",
       "\n",
       "        [[-1.1110, -0.9301],\n",
       "         [ 0.3319,  1.2316],\n",
       "         [-1.0875, -1.6248]],\n",
       "\n",
       "        [[ 0.3319,  1.2316],\n",
       "         [-1.0875, -1.6248],\n",
       "         [-0.8655, -1.1419]],\n",
       "\n",
       "        [[-1.0875, -1.6248],\n",
       "         [-0.8655, -1.1419],\n",
       "         [-0.0843, -0.5756]],\n",
       "\n",
       "        [[-0.8655, -1.1419],\n",
       "         [-0.0843, -0.5756],\n",
       "         [ 2.1483, -0.6080]],\n",
       "\n",
       "        [[-0.0843, -0.5756],\n",
       "         [ 2.1483, -0.6080],\n",
       "         [-1.7652, -1.3083]],\n",
       "\n",
       "        [[-0.7329,  0.0035],\n",
       "         [-0.7329,  0.0035],\n",
       "         [-0.7329,  0.0035]],\n",
       "\n",
       "        [[-0.7329,  0.0035],\n",
       "         [-0.7329,  0.0035],\n",
       "         [-1.4823,  0.6944]],\n",
       "\n",
       "        [[-0.7329,  0.0035],\n",
       "         [-1.4823,  0.6944],\n",
       "         [-1.1110, -0.9301]],\n",
       "\n",
       "        [[-1.4823,  0.6944],\n",
       "         [-1.1110, -0.9301],\n",
       "         [ 0.8822, -0.5451]],\n",
       "\n",
       "        [[-1.1110, -0.9301],\n",
       "         [ 0.8822, -0.5451],\n",
       "         [ 0.3319,  1.2316]],\n",
       "\n",
       "        [[ 0.8822, -0.5451],\n",
       "         [ 0.3319,  1.2316],\n",
       "         [-0.0843, -0.5756]],\n",
       "\n",
       "        [[ 0.3319,  1.2316],\n",
       "         [-0.0843, -0.5756],\n",
       "         [-1.7652, -1.3083]],\n",
       "\n",
       "        [[-0.7329,  0.0035],\n",
       "         [-0.7329,  0.0035],\n",
       "         [-0.7329,  0.0035]],\n",
       "\n",
       "        [[-0.7329,  0.0035],\n",
       "         [-0.7329,  0.0035],\n",
       "         [-0.5197, -0.2935]],\n",
       "\n",
       "        [[-0.7329,  0.0035],\n",
       "         [-0.5197, -0.2935],\n",
       "         [-1.7652, -1.3083]],\n",
       "\n",
       "        [[-0.5197, -0.2935],\n",
       "         [-1.7652, -1.3083],\n",
       "         [-0.0843, -0.5756]],\n",
       "\n",
       "        [[-1.7652, -1.3083],\n",
       "         [-0.0843, -0.5756],\n",
       "         [-1.4823,  0.6944]],\n",
       "\n",
       "        [[-0.0843, -0.5756],\n",
       "         [-1.4823,  0.6944],\n",
       "         [-0.0478,  0.7857]],\n",
       "\n",
       "        [[-1.4823,  0.6944],\n",
       "         [-0.0478,  0.7857],\n",
       "         [-1.7652, -1.3083]]])"
      ]
     },
     "execution_count": 27,
     "metadata": {},
     "output_type": "execute_result"
    }
   ],
   "source": [
    "C[X]"
   ]
  },
  {
   "cell_type": "code",
   "execution_count": 28,
   "id": "bebccee2",
   "metadata": {},
   "outputs": [
    {
     "data": {
      "text/plain": [
       "tensor([[ 0.8822, -0.5451],\n",
       "        [-1.7652, -1.3083],\n",
       "        [-0.0478,  0.7857]])"
      ]
     },
     "execution_count": 28,
     "metadata": {},
     "output_type": "execute_result"
    }
   ],
   "source": [
    "C[X][14,:]"
   ]
  },
  {
   "cell_type": "code",
   "execution_count": 29,
   "id": "abbf529a",
   "metadata": {},
   "outputs": [
    {
     "data": {
      "text/plain": [
       "tensor([-0.0478,  0.7857])"
      ]
     },
     "execution_count": 29,
     "metadata": {},
     "output_type": "execute_result"
    }
   ],
   "source": [
    "C[X][14,2]"
   ]
  },
  {
   "cell_type": "code",
   "execution_count": 30,
   "id": "be71340d",
   "metadata": {},
   "outputs": [
    {
     "data": {
      "text/plain": [
       "tensor([23,  2, 15])"
      ]
     },
     "execution_count": 30,
     "metadata": {},
     "output_type": "execute_result"
    }
   ],
   "source": [
    "X[14]"
   ]
  },
  {
   "cell_type": "code",
   "execution_count": 31,
   "id": "7e40a062",
   "metadata": {},
   "outputs": [
    {
     "data": {
      "text/plain": [
       "tensor([-0.0478,  0.7857])"
      ]
     },
     "execution_count": 31,
     "metadata": {},
     "output_type": "execute_result"
    }
   ],
   "source": [
    "C[15,:]"
   ]
  },
  {
   "cell_type": "code",
   "execution_count": 32,
   "id": "a6efc60a",
   "metadata": {},
   "outputs": [
    {
     "data": {
      "text/plain": [
       "torch.Size([41, 3, 2])"
      ]
     },
     "execution_count": 32,
     "metadata": {},
     "output_type": "execute_result"
    }
   ],
   "source": [
    "emb.shape"
   ]
  },
  {
   "cell_type": "code",
   "execution_count": 33,
   "id": "7aadf1fc",
   "metadata": {},
   "outputs": [],
   "source": [
    "# construct the Layer.... x.W+ b ... so the input has dimension 6=3*2 for (say) 100 neurons...\n",
    "W1=torch.randn(6,100)\n",
    "b1=torch.randn(100)\n"
   ]
  },
  {
   "cell_type": "code",
   "execution_count": 34,
   "id": "33097c17",
   "metadata": {
    "scrolled": true
   },
   "outputs": [
    {
     "ename": "RuntimeError",
     "evalue": "mat1 and mat2 shapes cannot be multiplied (123x2 and 6x100)",
     "output_type": "error",
     "traceback": [
      "\u001b[0;31m---------------------------------------------------------------------------\u001b[0m",
      "\u001b[0;31mRuntimeError\u001b[0m                              Traceback (most recent call last)",
      "\u001b[0;32m<ipython-input-34-742977382825>\u001b[0m in \u001b[0;36m<module>\u001b[0;34m\u001b[0m\n\u001b[1;32m      1\u001b[0m \u001b[0;31m# 'roughly' we want to compute emb @ W1 + b1....we need to 'concatenate'....discuss in class..\u001b[0m\u001b[0;34m\u001b[0m\u001b[0;34m\u001b[0m\u001b[0;34m\u001b[0m\u001b[0m\n\u001b[0;32m----> 2\u001b[0;31m \u001b[0memb\u001b[0m \u001b[0;34m@\u001b[0m \u001b[0mW1\u001b[0m \u001b[0;34m+\u001b[0m \u001b[0mb1\u001b[0m\u001b[0;34m\u001b[0m\u001b[0;34m\u001b[0m\u001b[0m\n\u001b[0m",
      "\u001b[0;31mRuntimeError\u001b[0m: mat1 and mat2 shapes cannot be multiplied (123x2 and 6x100)"
     ]
    }
   ],
   "source": [
    "# 'roughly' we want to compute emb @ W1 + b1....we need to 'concatenate'....discuss in class..\n",
    "emb @ W1 + b1"
   ]
  },
  {
   "cell_type": "code",
   "execution_count": 35,
   "id": "09c72bff",
   "metadata": {},
   "outputs": [
    {
     "data": {
      "text/plain": [
       "tensor([[-0.7329,  0.0035, -0.7329,  0.0035, -0.7329,  0.0035],\n",
       "        [-0.7329,  0.0035, -0.7329,  0.0035, -1.7652, -1.3083],\n",
       "        [-0.7329,  0.0035, -1.7652, -1.3083, -0.0843, -0.5756],\n",
       "        [-1.7652, -1.3083, -0.0843, -0.5756,  2.1483, -0.6080],\n",
       "        [-0.0843, -0.5756,  2.1483, -0.6080, -1.4823,  0.6944],\n",
       "        [ 2.1483, -0.6080, -1.4823,  0.6944, -0.0478,  0.7857],\n",
       "        [-1.4823,  0.6944, -0.0478,  0.7857,  1.9068,  1.6073],\n",
       "        [-0.0478,  0.7857,  1.9068,  1.6073,  1.3554, -0.1196],\n",
       "        [-0.7329,  0.0035, -0.7329,  0.0035, -0.7329,  0.0035],\n",
       "        [-0.7329,  0.0035, -0.7329,  0.0035,  2.1483, -0.6080],\n",
       "        [-0.7329,  0.0035,  2.1483, -0.6080,  0.3319,  1.2316],\n",
       "        [ 2.1483, -0.6080,  0.3319,  1.2316,  1.3554, -0.1196],\n",
       "        [ 0.3319,  1.2316,  1.3554, -0.1196,  0.8822, -0.5451],\n",
       "        [ 1.3554, -0.1196,  0.8822, -0.5451, -1.7652, -1.3083],\n",
       "        [ 0.8822, -0.5451, -1.7652, -1.3083, -0.0478,  0.7857],\n",
       "        [-1.7652, -1.3083, -0.0478,  0.7857, -0.0478,  0.7857],\n",
       "        [-0.0478,  0.7857, -0.0478,  0.7857,  0.3319,  1.2316],\n",
       "        [-0.0478,  0.7857,  0.3319,  1.2316, -0.0478,  0.7857],\n",
       "        [ 0.3319,  1.2316, -0.0478,  0.7857,  1.3554, -0.1196],\n",
       "        [-0.7329,  0.0035, -0.7329,  0.0035, -0.7329,  0.0035],\n",
       "        [-0.7329,  0.0035, -0.7329,  0.0035, -1.1110, -0.9301],\n",
       "        [-0.7329,  0.0035, -1.1110, -0.9301,  0.3319,  1.2316],\n",
       "        [-1.1110, -0.9301,  0.3319,  1.2316, -1.0875, -1.6248],\n",
       "        [ 0.3319,  1.2316, -1.0875, -1.6248, -0.8655, -1.1419],\n",
       "        [-1.0875, -1.6248, -0.8655, -1.1419, -0.0843, -0.5756],\n",
       "        [-0.8655, -1.1419, -0.0843, -0.5756,  2.1483, -0.6080],\n",
       "        [-0.0843, -0.5756,  2.1483, -0.6080, -1.7652, -1.3083],\n",
       "        [-0.7329,  0.0035, -0.7329,  0.0035, -0.7329,  0.0035],\n",
       "        [-0.7329,  0.0035, -0.7329,  0.0035, -1.4823,  0.6944],\n",
       "        [-0.7329,  0.0035, -1.4823,  0.6944, -1.1110, -0.9301],\n",
       "        [-1.4823,  0.6944, -1.1110, -0.9301,  0.8822, -0.5451],\n",
       "        [-1.1110, -0.9301,  0.8822, -0.5451,  0.3319,  1.2316],\n",
       "        [ 0.8822, -0.5451,  0.3319,  1.2316, -0.0843, -0.5756],\n",
       "        [ 0.3319,  1.2316, -0.0843, -0.5756, -1.7652, -1.3083],\n",
       "        [-0.7329,  0.0035, -0.7329,  0.0035, -0.7329,  0.0035],\n",
       "        [-0.7329,  0.0035, -0.7329,  0.0035, -0.5197, -0.2935],\n",
       "        [-0.7329,  0.0035, -0.5197, -0.2935, -1.7652, -1.3083],\n",
       "        [-0.5197, -0.2935, -1.7652, -1.3083, -0.0843, -0.5756],\n",
       "        [-1.7652, -1.3083, -0.0843, -0.5756, -1.4823,  0.6944],\n",
       "        [-0.0843, -0.5756, -1.4823,  0.6944, -0.0478,  0.7857],\n",
       "        [-1.4823,  0.6944, -0.0478,  0.7857, -1.7652, -1.3083]])"
      ]
     },
     "execution_count": 35,
     "metadata": {},
     "output_type": "execute_result"
    }
   ],
   "source": [
    "# https://pytorch.org/docs/stable/torch.html search for concatenate...\n",
    "# we want emb[:,0,:],emb[:,1,:],emb[:,2,:]  show in class.....\n",
    "\n",
    "torch.cat([emb[:,0,:],emb[:,1,:],emb[:,2,:]],1)\n",
    "#torch.cat([emb[:,0,:],emb[:,1,:],emb[:,2,:]],1).shape\n"
   ]
  },
  {
   "cell_type": "code",
   "execution_count": 36,
   "id": "ab8264cd",
   "metadata": {},
   "outputs": [
    {
     "data": {
      "text/plain": [
       "3"
      ]
     },
     "execution_count": 36,
     "metadata": {},
     "output_type": "execute_result"
    }
   ],
   "source": [
    "# we want a code for general n-grams..... \n",
    "# use 'unbind' https://pytorch.org/docs/stable/generated/torch.unbind.html#torch.unbind\n",
    "len(torch.unbind(emb,1))\n"
   ]
  },
  {
   "cell_type": "code",
   "execution_count": 37,
   "id": "f92c704d",
   "metadata": {},
   "outputs": [
    {
     "data": {
      "text/plain": [
       "tensor([[[-0.7329,  0.0035],\n",
       "         [-0.7329,  0.0035],\n",
       "         [-0.7329,  0.0035]],\n",
       "\n",
       "        [[-0.7329,  0.0035],\n",
       "         [-0.7329,  0.0035],\n",
       "         [-1.7652, -1.3083]],\n",
       "\n",
       "        [[-0.7329,  0.0035],\n",
       "         [-1.7652, -1.3083],\n",
       "         [-0.0843, -0.5756]],\n",
       "\n",
       "        [[-1.7652, -1.3083],\n",
       "         [-0.0843, -0.5756],\n",
       "         [ 2.1483, -0.6080]],\n",
       "\n",
       "        [[-0.0843, -0.5756],\n",
       "         [ 2.1483, -0.6080],\n",
       "         [-1.4823,  0.6944]],\n",
       "\n",
       "        [[ 2.1483, -0.6080],\n",
       "         [-1.4823,  0.6944],\n",
       "         [-0.0478,  0.7857]],\n",
       "\n",
       "        [[-1.4823,  0.6944],\n",
       "         [-0.0478,  0.7857],\n",
       "         [ 1.9068,  1.6073]],\n",
       "\n",
       "        [[-0.0478,  0.7857],\n",
       "         [ 1.9068,  1.6073],\n",
       "         [ 1.3554, -0.1196]],\n",
       "\n",
       "        [[-0.7329,  0.0035],\n",
       "         [-0.7329,  0.0035],\n",
       "         [-0.7329,  0.0035]],\n",
       "\n",
       "        [[-0.7329,  0.0035],\n",
       "         [-0.7329,  0.0035],\n",
       "         [ 2.1483, -0.6080]],\n",
       "\n",
       "        [[-0.7329,  0.0035],\n",
       "         [ 2.1483, -0.6080],\n",
       "         [ 0.3319,  1.2316]],\n",
       "\n",
       "        [[ 2.1483, -0.6080],\n",
       "         [ 0.3319,  1.2316],\n",
       "         [ 1.3554, -0.1196]],\n",
       "\n",
       "        [[ 0.3319,  1.2316],\n",
       "         [ 1.3554, -0.1196],\n",
       "         [ 0.8822, -0.5451]],\n",
       "\n",
       "        [[ 1.3554, -0.1196],\n",
       "         [ 0.8822, -0.5451],\n",
       "         [-1.7652, -1.3083]],\n",
       "\n",
       "        [[ 0.8822, -0.5451],\n",
       "         [-1.7652, -1.3083],\n",
       "         [-0.0478,  0.7857]],\n",
       "\n",
       "        [[-1.7652, -1.3083],\n",
       "         [-0.0478,  0.7857],\n",
       "         [-0.0478,  0.7857]],\n",
       "\n",
       "        [[-0.0478,  0.7857],\n",
       "         [-0.0478,  0.7857],\n",
       "         [ 0.3319,  1.2316]],\n",
       "\n",
       "        [[-0.0478,  0.7857],\n",
       "         [ 0.3319,  1.2316],\n",
       "         [-0.0478,  0.7857]],\n",
       "\n",
       "        [[ 0.3319,  1.2316],\n",
       "         [-0.0478,  0.7857],\n",
       "         [ 1.3554, -0.1196]],\n",
       "\n",
       "        [[-0.7329,  0.0035],\n",
       "         [-0.7329,  0.0035],\n",
       "         [-0.7329,  0.0035]],\n",
       "\n",
       "        [[-0.7329,  0.0035],\n",
       "         [-0.7329,  0.0035],\n",
       "         [-1.1110, -0.9301]],\n",
       "\n",
       "        [[-0.7329,  0.0035],\n",
       "         [-1.1110, -0.9301],\n",
       "         [ 0.3319,  1.2316]],\n",
       "\n",
       "        [[-1.1110, -0.9301],\n",
       "         [ 0.3319,  1.2316],\n",
       "         [-1.0875, -1.6248]],\n",
       "\n",
       "        [[ 0.3319,  1.2316],\n",
       "         [-1.0875, -1.6248],\n",
       "         [-0.8655, -1.1419]],\n",
       "\n",
       "        [[-1.0875, -1.6248],\n",
       "         [-0.8655, -1.1419],\n",
       "         [-0.0843, -0.5756]],\n",
       "\n",
       "        [[-0.8655, -1.1419],\n",
       "         [-0.0843, -0.5756],\n",
       "         [ 2.1483, -0.6080]],\n",
       "\n",
       "        [[-0.0843, -0.5756],\n",
       "         [ 2.1483, -0.6080],\n",
       "         [-1.7652, -1.3083]],\n",
       "\n",
       "        [[-0.7329,  0.0035],\n",
       "         [-0.7329,  0.0035],\n",
       "         [-0.7329,  0.0035]],\n",
       "\n",
       "        [[-0.7329,  0.0035],\n",
       "         [-0.7329,  0.0035],\n",
       "         [-1.4823,  0.6944]],\n",
       "\n",
       "        [[-0.7329,  0.0035],\n",
       "         [-1.4823,  0.6944],\n",
       "         [-1.1110, -0.9301]],\n",
       "\n",
       "        [[-1.4823,  0.6944],\n",
       "         [-1.1110, -0.9301],\n",
       "         [ 0.8822, -0.5451]],\n",
       "\n",
       "        [[-1.1110, -0.9301],\n",
       "         [ 0.8822, -0.5451],\n",
       "         [ 0.3319,  1.2316]],\n",
       "\n",
       "        [[ 0.8822, -0.5451],\n",
       "         [ 0.3319,  1.2316],\n",
       "         [-0.0843, -0.5756]],\n",
       "\n",
       "        [[ 0.3319,  1.2316],\n",
       "         [-0.0843, -0.5756],\n",
       "         [-1.7652, -1.3083]],\n",
       "\n",
       "        [[-0.7329,  0.0035],\n",
       "         [-0.7329,  0.0035],\n",
       "         [-0.7329,  0.0035]],\n",
       "\n",
       "        [[-0.7329,  0.0035],\n",
       "         [-0.7329,  0.0035],\n",
       "         [-0.5197, -0.2935]],\n",
       "\n",
       "        [[-0.7329,  0.0035],\n",
       "         [-0.5197, -0.2935],\n",
       "         [-1.7652, -1.3083]],\n",
       "\n",
       "        [[-0.5197, -0.2935],\n",
       "         [-1.7652, -1.3083],\n",
       "         [-0.0843, -0.5756]],\n",
       "\n",
       "        [[-1.7652, -1.3083],\n",
       "         [-0.0843, -0.5756],\n",
       "         [-1.4823,  0.6944]],\n",
       "\n",
       "        [[-0.0843, -0.5756],\n",
       "         [-1.4823,  0.6944],\n",
       "         [-0.0478,  0.7857]],\n",
       "\n",
       "        [[-1.4823,  0.6944],\n",
       "         [-0.0478,  0.7857],\n",
       "         [-1.7652, -1.3083]]])"
      ]
     },
     "execution_count": 37,
     "metadata": {},
     "output_type": "execute_result"
    }
   ],
   "source": [
    "emb"
   ]
  },
  {
   "cell_type": "code",
   "execution_count": 38,
   "id": "584696ee",
   "metadata": {},
   "outputs": [
    {
     "data": {
      "text/plain": [
       "(tensor([[-0.7329,  0.0035],\n",
       "         [-0.7329,  0.0035],\n",
       "         [-0.7329,  0.0035],\n",
       "         [-1.7652, -1.3083],\n",
       "         [-0.0843, -0.5756],\n",
       "         [ 2.1483, -0.6080],\n",
       "         [-1.4823,  0.6944],\n",
       "         [-0.0478,  0.7857],\n",
       "         [-0.7329,  0.0035],\n",
       "         [-0.7329,  0.0035],\n",
       "         [-0.7329,  0.0035],\n",
       "         [ 2.1483, -0.6080],\n",
       "         [ 0.3319,  1.2316],\n",
       "         [ 1.3554, -0.1196],\n",
       "         [ 0.8822, -0.5451],\n",
       "         [-1.7652, -1.3083],\n",
       "         [-0.0478,  0.7857],\n",
       "         [-0.0478,  0.7857],\n",
       "         [ 0.3319,  1.2316],\n",
       "         [-0.7329,  0.0035],\n",
       "         [-0.7329,  0.0035],\n",
       "         [-0.7329,  0.0035],\n",
       "         [-1.1110, -0.9301],\n",
       "         [ 0.3319,  1.2316],\n",
       "         [-1.0875, -1.6248],\n",
       "         [-0.8655, -1.1419],\n",
       "         [-0.0843, -0.5756],\n",
       "         [-0.7329,  0.0035],\n",
       "         [-0.7329,  0.0035],\n",
       "         [-0.7329,  0.0035],\n",
       "         [-1.4823,  0.6944],\n",
       "         [-1.1110, -0.9301],\n",
       "         [ 0.8822, -0.5451],\n",
       "         [ 0.3319,  1.2316],\n",
       "         [-0.7329,  0.0035],\n",
       "         [-0.7329,  0.0035],\n",
       "         [-0.7329,  0.0035],\n",
       "         [-0.5197, -0.2935],\n",
       "         [-1.7652, -1.3083],\n",
       "         [-0.0843, -0.5756],\n",
       "         [-1.4823,  0.6944]]),\n",
       " tensor([[-0.7329,  0.0035],\n",
       "         [-0.7329,  0.0035],\n",
       "         [-1.7652, -1.3083],\n",
       "         [-0.0843, -0.5756],\n",
       "         [ 2.1483, -0.6080],\n",
       "         [-1.4823,  0.6944],\n",
       "         [-0.0478,  0.7857],\n",
       "         [ 1.9068,  1.6073],\n",
       "         [-0.7329,  0.0035],\n",
       "         [-0.7329,  0.0035],\n",
       "         [ 2.1483, -0.6080],\n",
       "         [ 0.3319,  1.2316],\n",
       "         [ 1.3554, -0.1196],\n",
       "         [ 0.8822, -0.5451],\n",
       "         [-1.7652, -1.3083],\n",
       "         [-0.0478,  0.7857],\n",
       "         [-0.0478,  0.7857],\n",
       "         [ 0.3319,  1.2316],\n",
       "         [-0.0478,  0.7857],\n",
       "         [-0.7329,  0.0035],\n",
       "         [-0.7329,  0.0035],\n",
       "         [-1.1110, -0.9301],\n",
       "         [ 0.3319,  1.2316],\n",
       "         [-1.0875, -1.6248],\n",
       "         [-0.8655, -1.1419],\n",
       "         [-0.0843, -0.5756],\n",
       "         [ 2.1483, -0.6080],\n",
       "         [-0.7329,  0.0035],\n",
       "         [-0.7329,  0.0035],\n",
       "         [-1.4823,  0.6944],\n",
       "         [-1.1110, -0.9301],\n",
       "         [ 0.8822, -0.5451],\n",
       "         [ 0.3319,  1.2316],\n",
       "         [-0.0843, -0.5756],\n",
       "         [-0.7329,  0.0035],\n",
       "         [-0.7329,  0.0035],\n",
       "         [-0.5197, -0.2935],\n",
       "         [-1.7652, -1.3083],\n",
       "         [-0.0843, -0.5756],\n",
       "         [-1.4823,  0.6944],\n",
       "         [-0.0478,  0.7857]]),\n",
       " tensor([[-0.7329,  0.0035],\n",
       "         [-1.7652, -1.3083],\n",
       "         [-0.0843, -0.5756],\n",
       "         [ 2.1483, -0.6080],\n",
       "         [-1.4823,  0.6944],\n",
       "         [-0.0478,  0.7857],\n",
       "         [ 1.9068,  1.6073],\n",
       "         [ 1.3554, -0.1196],\n",
       "         [-0.7329,  0.0035],\n",
       "         [ 2.1483, -0.6080],\n",
       "         [ 0.3319,  1.2316],\n",
       "         [ 1.3554, -0.1196],\n",
       "         [ 0.8822, -0.5451],\n",
       "         [-1.7652, -1.3083],\n",
       "         [-0.0478,  0.7857],\n",
       "         [-0.0478,  0.7857],\n",
       "         [ 0.3319,  1.2316],\n",
       "         [-0.0478,  0.7857],\n",
       "         [ 1.3554, -0.1196],\n",
       "         [-0.7329,  0.0035],\n",
       "         [-1.1110, -0.9301],\n",
       "         [ 0.3319,  1.2316],\n",
       "         [-1.0875, -1.6248],\n",
       "         [-0.8655, -1.1419],\n",
       "         [-0.0843, -0.5756],\n",
       "         [ 2.1483, -0.6080],\n",
       "         [-1.7652, -1.3083],\n",
       "         [-0.7329,  0.0035],\n",
       "         [-1.4823,  0.6944],\n",
       "         [-1.1110, -0.9301],\n",
       "         [ 0.8822, -0.5451],\n",
       "         [ 0.3319,  1.2316],\n",
       "         [-0.0843, -0.5756],\n",
       "         [-1.7652, -1.3083],\n",
       "         [-0.7329,  0.0035],\n",
       "         [-0.5197, -0.2935],\n",
       "         [-1.7652, -1.3083],\n",
       "         [-0.0843, -0.5756],\n",
       "         [-1.4823,  0.6944],\n",
       "         [-0.0478,  0.7857],\n",
       "         [-1.7652, -1.3083]]))"
      ]
     },
     "execution_count": 38,
     "metadata": {},
     "output_type": "execute_result"
    }
   ],
   "source": [
    "torch.unbind(emb,1)"
   ]
  },
  {
   "cell_type": "code",
   "execution_count": 39,
   "id": "dc97758d",
   "metadata": {},
   "outputs": [
    {
     "data": {
      "text/plain": [
       "tensor([[-0.7329,  0.0035, -0.7329,  0.0035, -0.7329,  0.0035],\n",
       "        [-0.7329,  0.0035, -0.7329,  0.0035, -1.7652, -1.3083],\n",
       "        [-0.7329,  0.0035, -1.7652, -1.3083, -0.0843, -0.5756],\n",
       "        [-1.7652, -1.3083, -0.0843, -0.5756,  2.1483, -0.6080],\n",
       "        [-0.0843, -0.5756,  2.1483, -0.6080, -1.4823,  0.6944],\n",
       "        [ 2.1483, -0.6080, -1.4823,  0.6944, -0.0478,  0.7857],\n",
       "        [-1.4823,  0.6944, -0.0478,  0.7857,  1.9068,  1.6073],\n",
       "        [-0.0478,  0.7857,  1.9068,  1.6073,  1.3554, -0.1196],\n",
       "        [-0.7329,  0.0035, -0.7329,  0.0035, -0.7329,  0.0035],\n",
       "        [-0.7329,  0.0035, -0.7329,  0.0035,  2.1483, -0.6080],\n",
       "        [-0.7329,  0.0035,  2.1483, -0.6080,  0.3319,  1.2316],\n",
       "        [ 2.1483, -0.6080,  0.3319,  1.2316,  1.3554, -0.1196],\n",
       "        [ 0.3319,  1.2316,  1.3554, -0.1196,  0.8822, -0.5451],\n",
       "        [ 1.3554, -0.1196,  0.8822, -0.5451, -1.7652, -1.3083],\n",
       "        [ 0.8822, -0.5451, -1.7652, -1.3083, -0.0478,  0.7857],\n",
       "        [-1.7652, -1.3083, -0.0478,  0.7857, -0.0478,  0.7857],\n",
       "        [-0.0478,  0.7857, -0.0478,  0.7857,  0.3319,  1.2316],\n",
       "        [-0.0478,  0.7857,  0.3319,  1.2316, -0.0478,  0.7857],\n",
       "        [ 0.3319,  1.2316, -0.0478,  0.7857,  1.3554, -0.1196],\n",
       "        [-0.7329,  0.0035, -0.7329,  0.0035, -0.7329,  0.0035],\n",
       "        [-0.7329,  0.0035, -0.7329,  0.0035, -1.1110, -0.9301],\n",
       "        [-0.7329,  0.0035, -1.1110, -0.9301,  0.3319,  1.2316],\n",
       "        [-1.1110, -0.9301,  0.3319,  1.2316, -1.0875, -1.6248],\n",
       "        [ 0.3319,  1.2316, -1.0875, -1.6248, -0.8655, -1.1419],\n",
       "        [-1.0875, -1.6248, -0.8655, -1.1419, -0.0843, -0.5756],\n",
       "        [-0.8655, -1.1419, -0.0843, -0.5756,  2.1483, -0.6080],\n",
       "        [-0.0843, -0.5756,  2.1483, -0.6080, -1.7652, -1.3083],\n",
       "        [-0.7329,  0.0035, -0.7329,  0.0035, -0.7329,  0.0035],\n",
       "        [-0.7329,  0.0035, -0.7329,  0.0035, -1.4823,  0.6944],\n",
       "        [-0.7329,  0.0035, -1.4823,  0.6944, -1.1110, -0.9301],\n",
       "        [-1.4823,  0.6944, -1.1110, -0.9301,  0.8822, -0.5451],\n",
       "        [-1.1110, -0.9301,  0.8822, -0.5451,  0.3319,  1.2316],\n",
       "        [ 0.8822, -0.5451,  0.3319,  1.2316, -0.0843, -0.5756],\n",
       "        [ 0.3319,  1.2316, -0.0843, -0.5756, -1.7652, -1.3083],\n",
       "        [-0.7329,  0.0035, -0.7329,  0.0035, -0.7329,  0.0035],\n",
       "        [-0.7329,  0.0035, -0.7329,  0.0035, -0.5197, -0.2935],\n",
       "        [-0.7329,  0.0035, -0.5197, -0.2935, -1.7652, -1.3083],\n",
       "        [-0.5197, -0.2935, -1.7652, -1.3083, -0.0843, -0.5756],\n",
       "        [-1.7652, -1.3083, -0.0843, -0.5756, -1.4823,  0.6944],\n",
       "        [-0.0843, -0.5756, -1.4823,  0.6944, -0.0478,  0.7857],\n",
       "        [-1.4823,  0.6944, -0.0478,  0.7857, -1.7652, -1.3083]])"
      ]
     },
     "execution_count": 39,
     "metadata": {},
     "output_type": "execute_result"
    }
   ],
   "source": [
    "# and this work fore any context length.......\n",
    "\n",
    "torch.cat(torch.unbind(emb,1),1)"
   ]
  },
  {
   "cell_type": "code",
   "execution_count": 40,
   "id": "9047edfc",
   "metadata": {},
   "outputs": [
    {
     "data": {
      "text/plain": [
       "tensor([ 0,  1,  2,  3,  4,  5,  6,  7,  8,  9, 10, 11, 12, 13, 14, 15, 16, 17])"
      ]
     },
     "execution_count": 40,
     "metadata": {},
     "output_type": "execute_result"
    }
   ],
   "source": [
    "# there is a better way....\n",
    "\n",
    "# https://pytorch.org/docs/stable/generated/torch.Tensor.view.html\n",
    "\n",
    "# https://pytorch.org/docs/stable/generated/torch.Tensor.stride.html\n",
    "\n",
    "# use google image and discuss in class....\n",
    "\n",
    "a=torch.arange(18)\n",
    "a"
   ]
  },
  {
   "cell_type": "code",
   "execution_count": 41,
   "id": "331ce939",
   "metadata": {},
   "outputs": [
    {
     "data": {
      "text/plain": [
       "torch.Size([18])"
      ]
     },
     "execution_count": 41,
     "metadata": {},
     "output_type": "execute_result"
    }
   ],
   "source": [
    "a.shape\n"
   ]
  },
  {
   "cell_type": "code",
   "execution_count": 42,
   "id": "00c12bf0",
   "metadata": {},
   "outputs": [
    {
     "data": {
      "text/plain": [
       "tensor([[ 0,  1],\n",
       "        [ 2,  3],\n",
       "        [ 4,  5],\n",
       "        [ 6,  7],\n",
       "        [ 8,  9],\n",
       "        [10, 11],\n",
       "        [12, 13],\n",
       "        [14, 15],\n",
       "        [16, 17]])"
      ]
     },
     "execution_count": 42,
     "metadata": {},
     "output_type": "execute_result"
    }
   ],
   "source": [
    "a.view(9,2)"
   ]
  },
  {
   "cell_type": "code",
   "execution_count": 43,
   "id": "4520ac64",
   "metadata": {},
   "outputs": [
    {
     "data": {
      "text/plain": [
       "tensor([[ 0,  1,  2,  3,  4,  5,  6,  7,  8],\n",
       "        [ 9, 10, 11, 12, 13, 14, 15, 16, 17]])"
      ]
     },
     "execution_count": 43,
     "metadata": {},
     "output_type": "execute_result"
    }
   ],
   "source": [
    "a.view(2,9)"
   ]
  },
  {
   "cell_type": "code",
   "execution_count": 44,
   "id": "f7833f07",
   "metadata": {},
   "outputs": [
    {
     "data": {
      "text/plain": [
       "tensor([[[ 0,  1,  2],\n",
       "         [ 3,  4,  5]],\n",
       "\n",
       "        [[ 6,  7,  8],\n",
       "         [ 9, 10, 11]],\n",
       "\n",
       "        [[12, 13, 14],\n",
       "         [15, 16, 17]]])"
      ]
     },
     "execution_count": 44,
     "metadata": {},
     "output_type": "execute_result"
    }
   ],
   "source": [
    "a.view(3,2,3)"
   ]
  },
  {
   "cell_type": "code",
   "execution_count": 45,
   "id": "d6a09f0a",
   "metadata": {},
   "outputs": [
    {
     "name": "stderr",
     "output_type": "stream",
     "text": [
      "<ipython-input-45-ae81ef3d29c0>:2: UserWarning: TypedStorage is deprecated. It will be removed in the future and UntypedStorage will be the only storage class. This should only matter to you if you are using storages directly.  To access UntypedStorage directly, use tensor.untyped_storage() instead of tensor.storage()\n",
      "  a.storage()\n",
      "/Users/mirko/opt/anaconda3/lib/python3.8/site-packages/IPython/lib/pretty.py:700: UserWarning: TypedStorage is deprecated. It will be removed in the future and UntypedStorage will be the only storage class. This should only matter to you if you are using storages directly.  To access UntypedStorage directly, use tensor.untyped_storage() instead of tensor.storage()\n",
      "  output = repr(obj)\n",
      "/Users/mirko/opt/anaconda3/lib/python3.8/site-packages/torch/storage.py:645: UserWarning: TypedStorage is deprecated. It will be removed in the future and UntypedStorage will be the only storage class. This should only matter to you if you are using storages directly.  To access UntypedStorage directly, use tensor.untyped_storage() instead of tensor.storage()\n",
      "  return str(self)\n",
      "/Users/mirko/opt/anaconda3/lib/python3.8/site-packages/torch/storage.py:635: UserWarning: TypedStorage is deprecated. It will be removed in the future and UntypedStorage will be the only storage class. This should only matter to you if you are using storages directly.  To access UntypedStorage directly, use tensor.untyped_storage() instead of tensor.storage()\n",
      "  f'[{torch.typename(self)}(dtype={self.dtype}, '\n",
      "/Users/mirko/opt/anaconda3/lib/python3.8/site-packages/torch/storage.py:637: UserWarning: TypedStorage is deprecated. It will be removed in the future and UntypedStorage will be the only storage class. This should only matter to you if you are using storages directly.  To access UntypedStorage directly, use tensor.untyped_storage() instead of tensor.storage()\n",
      "  if self.device.type == 'meta':\n",
      "/Users/mirko/opt/anaconda3/lib/python3.8/site-packages/torch/storage.py:640: UserWarning: TypedStorage is deprecated. It will be removed in the future and UntypedStorage will be the only storage class. This should only matter to you if you are using storages directly.  To access UntypedStorage directly, use tensor.untyped_storage() instead of tensor.storage()\n",
      "  data_str = ' ' + '\\n '.join(str(self[i]) for i in range(self.size()))\n"
     ]
    },
    {
     "data": {
      "text/plain": [
       " 0\n",
       " 1\n",
       " 2\n",
       " 3\n",
       " 4\n",
       " 5\n",
       " 6\n",
       " 7\n",
       " 8\n",
       " 9\n",
       " 10\n",
       " 11\n",
       " 12\n",
       " 13\n",
       " 14\n",
       " 15\n",
       " 16\n",
       " 17\n",
       "[torch.storage.TypedStorage(dtype=torch.int64, device=cpu) of size 18]"
      ]
     },
     "execution_count": 45,
     "metadata": {},
     "output_type": "execute_result"
    }
   ],
   "source": [
    "# very efficient in torch....discuss in class\n",
    "a.storage()"
   ]
  },
  {
   "cell_type": "code",
   "execution_count": 130,
   "id": "229b1e60",
   "metadata": {},
   "outputs": [
    {
     "ename": "RuntimeError",
     "evalue": "shape '[41, 6]' is invalid for input of size 441858",
     "output_type": "error",
     "traceback": [
      "\u001b[0;31m---------------------------------------------------------------------------\u001b[0m",
      "\u001b[0;31mRuntimeError\u001b[0m                              Traceback (most recent call last)",
      "\u001b[0;32m<ipython-input-130-6ebc75d0f911>\u001b[0m in \u001b[0;36m<module>\u001b[0;34m\u001b[0m\n\u001b[0;32m----> 1\u001b[0;31m \u001b[0memb\u001b[0m\u001b[0;34m.\u001b[0m\u001b[0mview\u001b[0m\u001b[0;34m(\u001b[0m\u001b[0;36m41\u001b[0m\u001b[0;34m,\u001b[0m\u001b[0;36m6\u001b[0m\u001b[0;34m)\u001b[0m \u001b[0;34m==\u001b[0m \u001b[0mtorch\u001b[0m\u001b[0;34m.\u001b[0m\u001b[0mcat\u001b[0m\u001b[0;34m(\u001b[0m\u001b[0mtorch\u001b[0m\u001b[0;34m.\u001b[0m\u001b[0munbind\u001b[0m\u001b[0;34m(\u001b[0m\u001b[0memb\u001b[0m\u001b[0;34m,\u001b[0m\u001b[0;36m1\u001b[0m\u001b[0;34m)\u001b[0m\u001b[0;34m,\u001b[0m\u001b[0;36m1\u001b[0m\u001b[0;34m)\u001b[0m\u001b[0;34m\u001b[0m\u001b[0;34m\u001b[0m\u001b[0m\n\u001b[0m",
      "\u001b[0;31mRuntimeError\u001b[0m: shape '[41, 6]' is invalid for input of size 441858"
     ]
    }
   ],
   "source": [
    "emb.view(41,6) == torch.cat(torch.unbind(emb,1),1)"
   ]
  },
  {
   "cell_type": "code",
   "execution_count": 46,
   "id": "97a73e4e",
   "metadata": {},
   "outputs": [],
   "source": [
    "# so we can use\n",
    "\n",
    "h=emb.view(41,6) @ W1 + b1"
   ]
  },
  {
   "cell_type": "code",
   "execution_count": 47,
   "id": "e16bb82b",
   "metadata": {},
   "outputs": [
    {
     "data": {
      "text/plain": [
       "tensor([[ 0.6950, -0.0608,  1.0641,  ..., -1.0507, -5.1467,  2.7080],\n",
       "        [ 0.1085, -1.4836, -0.8249,  ..., -0.6556, -4.4075,  0.9625],\n",
       "        [-0.4613, -3.6545, -1.0886,  ...,  0.8525, -7.2736, -3.0728],\n",
       "        ...,\n",
       "        [ 3.4178,  2.3570,  0.9607,  ..., -5.3365, -4.4090,  7.3669],\n",
       "        [ 1.5163,  0.6163,  0.0538,  ..., -1.5683, -6.4346, -0.5193],\n",
       "        [ 0.5318,  0.0765,  2.8617,  ..., -0.2770, -3.9585,  7.0248]])"
      ]
     },
     "execution_count": 47,
     "metadata": {},
     "output_type": "execute_result"
    }
   ],
   "source": [
    "h"
   ]
  },
  {
   "cell_type": "code",
   "execution_count": 48,
   "id": "558162ff",
   "metadata": {},
   "outputs": [
    {
     "data": {
      "text/plain": [
       "torch.Size([41, 100])"
      ]
     },
     "execution_count": 48,
     "metadata": {},
     "output_type": "execute_result"
    }
   ],
   "source": [
    "h.shape"
   ]
  },
  {
   "cell_type": "code",
   "execution_count": 49,
   "id": "1c2f1779",
   "metadata": {},
   "outputs": [],
   "source": [
    "# more general...\n",
    "h=emb.view(-1,6) @ W1 + b1"
   ]
  },
  {
   "cell_type": "code",
   "execution_count": 50,
   "id": "0f9faf39",
   "metadata": {},
   "outputs": [],
   "source": [
    "# first layer\n",
    "\n",
    "# https://pytorch.org/docs/stable/generated/torch.tanh.html\n",
    "\n",
    "h=torch.tanh(emb.view(-1,6) @ W1 + b1)"
   ]
  },
  {
   "cell_type": "code",
   "execution_count": 51,
   "id": "dc35f755",
   "metadata": {},
   "outputs": [
    {
     "data": {
      "text/plain": [
       "tensor([[ 0.6012, -0.0607,  0.7872,  ..., -0.7821, -0.9999,  0.9911],\n",
       "        [ 0.1081, -0.9021, -0.6777,  ..., -0.5754, -0.9997,  0.7454],\n",
       "        [-0.4311, -0.9987, -0.7964,  ...,  0.6924, -1.0000, -0.9957],\n",
       "        ...,\n",
       "        [ 0.9979,  0.9822,  0.7446,  ..., -1.0000, -0.9997,  1.0000],\n",
       "        [ 0.9081,  0.5485,  0.0538,  ..., -0.9168, -1.0000, -0.4772],\n",
       "        [ 0.4867,  0.0764,  0.9935,  ..., -0.2702, -0.9993,  1.0000]])"
      ]
     },
     "execution_count": 51,
     "metadata": {},
     "output_type": "execute_result"
    }
   ],
   "source": [
    "h"
   ]
  },
  {
   "cell_type": "code",
   "execution_count": 52,
   "id": "dc58619c",
   "metadata": {},
   "outputs": [],
   "source": [
    " #second layer...think about dimensions....\n",
    "    \n",
    "W2=torch.randn((100,28))\n",
    "b2=torch.randn(28)"
   ]
  },
  {
   "cell_type": "code",
   "execution_count": 53,
   "id": "2b211524",
   "metadata": {},
   "outputs": [
    {
     "data": {
      "text/plain": [
       "torch.Size([41, 28])"
      ]
     },
     "execution_count": 53,
     "metadata": {},
     "output_type": "execute_result"
    }
   ],
   "source": [
    "logits= h @ W2 +b2\n",
    "logits.shape"
   ]
  },
  {
   "cell_type": "code",
   "execution_count": 54,
   "id": "4c70e941",
   "metadata": {},
   "outputs": [],
   "source": [
    "counts = logits.exp()"
   ]
  },
  {
   "cell_type": "code",
   "execution_count": 55,
   "id": "9a67d79d",
   "metadata": {},
   "outputs": [],
   "source": [
    "prob=counts/counts.sum(1,keepdims=True)"
   ]
  },
  {
   "cell_type": "code",
   "execution_count": 56,
   "id": "9e30313b",
   "metadata": {},
   "outputs": [
    {
     "data": {
      "text/plain": [
       "tensor([1.3778e-05, 1.2502e-08, 1.2208e-05, 7.7944e-10, 3.2622e-07, 3.6397e-13,\n",
       "        1.1453e-06, 9.0493e-04, 9.1155e-18, 1.0888e-08, 4.2140e-04, 3.4807e-08,\n",
       "        7.4388e-10, 1.0336e-10, 4.1824e-09, 2.1352e-08, 8.4168e-08, 2.1647e-08,\n",
       "        5.4566e-09, 9.9862e-01, 8.6335e-07, 3.4472e-07, 2.0569e-05, 1.1340e-06,\n",
       "        7.1442e-07, 1.4848e-10, 2.0623e-07, 1.5815e-06])"
      ]
     },
     "execution_count": 56,
     "metadata": {},
     "output_type": "execute_result"
    }
   ],
   "source": [
    "prob[0]"
   ]
  },
  {
   "cell_type": "code",
   "execution_count": 57,
   "id": "26f35650",
   "metadata": {},
   "outputs": [
    {
     "data": {
      "text/plain": [
       "tensor(1.)"
      ]
     },
     "execution_count": 57,
     "metadata": {},
     "output_type": "execute_result"
    }
   ],
   "source": [
    "prob[0].sum()"
   ]
  },
  {
   "cell_type": "code",
   "execution_count": 58,
   "id": "3c87a430",
   "metadata": {},
   "outputs": [
    {
     "data": {
      "text/plain": [
       "tensor([ 2, 19,  8,  6, 15, 21, 16,  0,  8, 10, 16, 23,  2, 15, 15, 10, 15, 16,\n",
       "         0, 13, 10,  4, 22, 19,  8,  2,  0,  6, 13, 23, 10, 19,  2,  0, 14,  2,\n",
       "        19,  6, 15,  2,  0])"
      ]
     },
     "execution_count": 58,
     "metadata": {},
     "output_type": "execute_result"
    }
   ],
   "source": [
    "# we now the 'true'' forth caracher....\n",
    "Y"
   ]
  },
  {
   "cell_type": "code",
   "execution_count": 59,
   "id": "ba98bff0",
   "metadata": {},
   "outputs": [
    {
     "data": {
      "text/plain": [
       "tensor([1.3778e-05, 1.2502e-08, 1.2208e-05, 7.7944e-10, 3.2622e-07, 3.6397e-13,\n",
       "        1.1453e-06, 9.0493e-04, 9.1155e-18, 1.0888e-08, 4.2140e-04, 3.4807e-08,\n",
       "        7.4388e-10, 1.0336e-10, 4.1824e-09, 2.1352e-08, 8.4168e-08, 2.1647e-08,\n",
       "        5.4566e-09, 9.9862e-01, 8.6335e-07, 3.4472e-07, 2.0569e-05, 1.1340e-06,\n",
       "        7.1442e-07, 1.4848e-10, 2.0623e-07, 1.5815e-06])"
      ]
     },
     "execution_count": 59,
     "metadata": {},
     "output_type": "execute_result"
    }
   ],
   "source": [
    "prob[0]"
   ]
  },
  {
   "cell_type": "code",
   "execution_count": 60,
   "id": "4c0fb3df",
   "metadata": {},
   "outputs": [
    {
     "data": {
      "text/plain": [
       "tensor([2.1681e-01, 3.8337e-04, 3.7357e-07, 2.0178e-11, 5.8302e-04, 4.7827e-09,\n",
       "        2.6087e-04, 3.0910e-02, 6.7268e-16, 2.4220e-12, 2.6360e-07, 2.9076e-07,\n",
       "        5.7582e-14, 5.9618e-12, 1.5578e-01, 3.7993e-10, 1.8154e-08, 2.8263e-01,\n",
       "        2.4160e-01, 7.0480e-02, 1.8191e-09, 7.4186e-07, 3.7234e-06, 5.5201e-04,\n",
       "        1.5495e-10, 6.7180e-10, 6.8005e-09, 3.4455e-10])"
      ]
     },
     "execution_count": 60,
     "metadata": {},
     "output_type": "execute_result"
    }
   ],
   "source": [
    "prob[1]"
   ]
  },
  {
   "cell_type": "code",
   "execution_count": 61,
   "id": "9484d0f8",
   "metadata": {},
   "outputs": [
    {
     "data": {
      "text/plain": [
       "tensor([[1.3778e-05, 1.2502e-08, 1.2208e-05, 7.7944e-10, 3.2622e-07, 3.6397e-13,\n",
       "         1.1453e-06, 9.0493e-04, 9.1155e-18, 1.0888e-08, 4.2140e-04, 3.4807e-08,\n",
       "         7.4388e-10, 1.0336e-10, 4.1824e-09, 2.1352e-08, 8.4168e-08, 2.1647e-08,\n",
       "         5.4566e-09, 9.9862e-01, 8.6335e-07, 3.4472e-07, 2.0569e-05, 1.1340e-06,\n",
       "         7.1442e-07, 1.4848e-10, 2.0623e-07, 1.5815e-06],\n",
       "        [2.1681e-01, 3.8337e-04, 3.7357e-07, 2.0178e-11, 5.8302e-04, 4.7827e-09,\n",
       "         2.6087e-04, 3.0910e-02, 6.7268e-16, 2.4220e-12, 2.6360e-07, 2.9076e-07,\n",
       "         5.7582e-14, 5.9618e-12, 1.5578e-01, 3.7993e-10, 1.8154e-08, 2.8263e-01,\n",
       "         2.4160e-01, 7.0480e-02, 1.8191e-09, 7.4186e-07, 3.7234e-06, 5.5201e-04,\n",
       "         1.5495e-10, 6.7180e-10, 6.8005e-09, 3.4455e-10]])"
      ]
     },
     "execution_count": 61,
     "metadata": {},
     "output_type": "execute_result"
    }
   ],
   "source": [
    "prob[[0,1]]\n",
    "#prob[0,1]"
   ]
  },
  {
   "cell_type": "code",
   "execution_count": 62,
   "id": "625389d2",
   "metadata": {},
   "outputs": [
    {
     "data": {
      "text/plain": [
       "tensor([1.2208e-05, 4.7827e-09])"
      ]
     },
     "execution_count": 62,
     "metadata": {},
     "output_type": "execute_result"
    }
   ],
   "source": [
    "prob[[0,1],[2,5]]"
   ]
  },
  {
   "cell_type": "code",
   "execution_count": 63,
   "id": "b8ebd310",
   "metadata": {},
   "outputs": [
    {
     "data": {
      "text/plain": [
       "tensor([ 0,  1,  2,  3,  4,  5,  6,  7,  8,  9, 10, 11, 12, 13, 14, 15, 16, 17,\n",
       "        18, 19, 20, 21, 22, 23, 24, 25, 26, 27, 28, 29, 30, 31, 32, 33, 34, 35,\n",
       "        36, 37, 38, 39, 40])"
      ]
     },
     "execution_count": 63,
     "metadata": {},
     "output_type": "execute_result"
    }
   ],
   "source": [
    "torch.arange(41)"
   ]
  },
  {
   "cell_type": "code",
   "execution_count": 64,
   "id": "8c12f1b6",
   "metadata": {},
   "outputs": [
    {
     "data": {
      "text/plain": [
       "tensor([1.2208e-05, 7.0480e-02, 1.0232e-13, 4.2317e-15, 1.6598e-10, 1.8526e-13,\n",
       "        9.5668e-09, 3.3341e-03, 9.1155e-18, 2.7092e-04, 3.5043e-12, 3.2309e-15,\n",
       "        1.4067e-07, 9.3313e-09, 1.4324e-06, 3.5085e-07, 2.0701e-03, 1.2040e-04,\n",
       "        1.5254e-06, 1.0336e-10, 4.9771e-06, 3.8931e-14, 2.8767e-06, 7.3298e-02,\n",
       "        1.1924e-14, 1.1818e-05, 3.9052e-04, 1.1453e-06, 3.3129e-14, 2.1002e-06,\n",
       "        9.9979e-01, 9.9967e-01, 1.2970e-04, 7.8750e-05, 4.1824e-09, 1.1751e-05,\n",
       "        2.8061e-01, 1.6885e-06, 9.6359e-17, 1.4620e-01, 7.3178e-01])"
      ]
     },
     "execution_count": 64,
     "metadata": {},
     "output_type": "execute_result"
    }
   ],
   "source": [
    "prob[torch.arange(41),Y]  #comments the results...random weights.....\n"
   ]
  },
  {
   "cell_type": "code",
   "execution_count": 65,
   "id": "128709ca",
   "metadata": {},
   "outputs": [
    {
     "data": {
      "text/plain": [
       "tensor(15.7213)"
      ]
     },
     "execution_count": 65,
     "metadata": {},
     "output_type": "execute_result"
    }
   ],
   "source": [
    "loss= - prob[torch.arange(41),Y].log().mean()\n",
    "loss  # very bad of course....."
   ]
  },
  {
   "cell_type": "code",
   "execution_count": 66,
   "id": "83363e1d",
   "metadata": {},
   "outputs": [],
   "source": [
    "# ------- now we made it respectable .......\n"
   ]
  },
  {
   "cell_type": "code",
   "execution_count": 67,
   "id": "f67c385e",
   "metadata": {},
   "outputs": [
    {
     "data": {
      "text/plain": [
       "(torch.Size([41, 3]), torch.Size([41]))"
      ]
     },
     "execution_count": 67,
     "metadata": {},
     "output_type": "execute_result"
    }
   ],
   "source": [
    "X.shape, Y.shape #data set"
   ]
  },
  {
   "cell_type": "code",
   "execution_count": 68,
   "id": "32e94c68",
   "metadata": {},
   "outputs": [],
   "source": [
    "g=torch.Generator().manual_seed(123456780)# for reproducibility\n",
    "C=torch.randn((28,2), generator=g)\n",
    "W1=torch.randn((6,100), generator=g)\n",
    "b1=torch.randn(100, generator=g)\n",
    "W2=torch.randn((100,28), generator=g)\n",
    "b2=torch.randn(28, generator=g)\n",
    "parameters=[C,W1,b1,W2,b2]"
   ]
  },
  {
   "cell_type": "code",
   "execution_count": 69,
   "id": "24c58c51",
   "metadata": {},
   "outputs": [
    {
     "data": {
      "text/plain": [
       "3584"
      ]
     },
     "execution_count": 69,
     "metadata": {},
     "output_type": "execute_result"
    }
   ],
   "source": [
    "sum(p.nelement() for p in parameters)# number of parameter in total..."
   ]
  },
  {
   "cell_type": "code",
   "execution_count": 71,
   "id": "b7bbb813",
   "metadata": {},
   "outputs": [
    {
     "data": {
      "text/plain": [
       "tensor(17.2342)"
      ]
     },
     "execution_count": 71,
     "metadata": {},
     "output_type": "execute_result"
    }
   ],
   "source": [
    "emb=C[X] # torch.Size([41, 3, 2])\n",
    "h=torch.tanh(emb.view(-1,6) @ W1 + b1) #(41,100)\n",
    "logits= h @ W2 + b2 #(41,27)\n",
    "counts=logits.exp()\n",
    "prob=counts/counts.sum(1,keepdims=True)\n",
    "loss=-prob[torch.arange(41),Y].log().mean()\n",
    "loss"
   ]
  },
  {
   "cell_type": "code",
   "execution_count": 72,
   "id": "cdc82d00",
   "metadata": {},
   "outputs": [
    {
     "data": {
      "text/plain": [
       "tensor(17.2342)"
      ]
     },
     "execution_count": 72,
     "metadata": {},
     "output_type": "execute_result"
    }
   ],
   "source": [
    "# we can make it more efficient using the build in cross entropy loss function...\n",
    "F.cross_entropy(logits,Y)"
   ]
  },
  {
   "cell_type": "code",
   "execution_count": 73,
   "id": "07815716",
   "metadata": {},
   "outputs": [
    {
     "data": {
      "text/plain": [
       "tensor(17.2342)"
      ]
     },
     "execution_count": 73,
     "metadata": {},
     "output_type": "execute_result"
    }
   ],
   "source": [
    "# so..... https://pytorch.org/docs/stable/generated/torch.nn.functional.cross_entropy.html\n",
    "emb=C[X] # torch.Size([41, 3, 2])\n",
    "h=torch.tanh(emb.view(-1,6) @ W1 + b1) #(41,100)\n",
    "logits= h @ W2 + b2 #(41,27)\n",
    "#counts=logits.exp()\n",
    "#prob=counts/counts.sum(1,keepdims=True)\n",
    "#loss=-prob[torch.arange(41),Y].log().mean()\n",
    "loss=F.cross_entropy(logits,Y)\n",
    "loss"
   ]
  },
  {
   "cell_type": "code",
   "execution_count": 74,
   "id": "a30fb0f6",
   "metadata": {},
   "outputs": [
    {
     "name": "stdout",
     "output_type": "stream",
     "text": [
      "tensor([6.7379e-03, 4.9787e-02, 1.0000e+00, 2.2026e+04])\n"
     ]
    },
    {
     "data": {
      "text/plain": [
       "tensor([3.0589e-07, 2.2602e-06, 4.5398e-05, 9.9995e-01])"
      ]
     },
     "execution_count": 74,
     "metadata": {},
     "output_type": "execute_result"
    }
   ],
   "source": [
    "# two very good reasons to use 'cross_entropy': more efficient (no tensor) and substract the maximum to avoid nan....discuss....\n",
    "\n",
    "logits=torch.tensor([-5,-3,0,10]) # -100\n",
    "counts=logits.exp()\n",
    "prob=counts/counts.sum()\n",
    "print(counts)\n",
    "prob"
   ]
  },
  {
   "cell_type": "code",
   "execution_count": 75,
   "id": "70093b02",
   "metadata": {},
   "outputs": [],
   "source": [
    "for p in parameters:\n",
    "    p.requires_grad = True\n",
    "\n",
    "for _ in range(1000):\n",
    "    # now we learn...forward bass \n",
    "    emb=C[X] # torch.Size([41, 3, 2])\n",
    "    h=torch.tanh(emb.view(-1,6) @ W1 + b1) #(41,100)\n",
    "    logits= h @ W2 + b2 #(41,27)\n",
    "    loss=F.cross_entropy(logits,Y)\n",
    "#    print(loss.item())\n",
    "    # backward pass \n",
    "    for p in parameters:\n",
    "        p.grad=None\n",
    "    loss.backward()\n",
    "    #update\n",
    "    for p in parameters:\n",
    "        p.data += -0.1*p.grad"
   ]
  },
  {
   "cell_type": "code",
   "execution_count": 76,
   "id": "aa6c3cc3",
   "metadata": {},
   "outputs": [
    {
     "name": "stdout",
     "output_type": "stream",
     "text": [
      "elvira.\n",
      "marena.\n",
      "giovannino.\n",
      "giovannino.\n",
      "giovannino.\n",
      "giovannino.\n",
      "elvira.\n",
      "marena.\n",
      "argento.\n",
      "argento.\n",
      "argento.\n",
      "elvira.\n",
      "argento.\n",
      "licurga.\n",
      "licurga.\n",
      "marena.\n",
      "giovannino.\n",
      "marena.\n",
      "giovannino.\n",
      "licurga.\n"
     ]
    }
   ],
   "source": [
    "# sampling from the model.....\n",
    "\n",
    "g=torch.Generator().manual_seed(12345678+10)\n",
    "\n",
    "for _ in range(20):\n",
    "    out=[]\n",
    "    context=[0]*block_size\n",
    "    while True:\n",
    "        emb=C[torch.tensor([context])]\n",
    "        h=torch.tanh(emb.view(1,-1) @ W1 + b1) \n",
    "        logits= h @ W2 + b2\n",
    "        probs=F.softmax(logits,dim=1)\n",
    "        ix=torch.multinomial(probs,num_samples=1,generator=g).item()\n",
    "        context=context[1:]+[ix]\n",
    "        out.append(ix)\n",
    "        if ix==0:\n",
    "            break\n",
    "        \n",
    "    print(''.join(itos[i] for i in out))\n",
    "        "
   ]
  },
  {
   "cell_type": "code",
   "execution_count": 77,
   "id": "8a6074e3",
   "metadata": {},
   "outputs": [
    {
     "name": "stdout",
     "output_type": "stream",
     "text": [
      "0.19916318356990814\n"
     ]
    }
   ],
   "source": [
    "# with 'only' 41 examples and 3584 parameters we are overfitting !!\n",
    "\n",
    "\n",
    "for p in parameters:\n",
    "    p.requires_grad = True\n",
    "\n",
    "for _ in range(1000):\n",
    "    # now we learn...forward bass \n",
    "    emb=C[X] # torch.Size([41, 3, 2])\n",
    "    h=torch.tanh(emb.view(-1,6) @ W1 + b1) #(41,100)\n",
    "    logits= h @ W2 + b2 #(41,27)\n",
    "    loss=F.cross_entropy(logits,Y)\n",
    "    #print(loss.item())\n",
    "    # backward pass \n",
    "    for p in parameters:\n",
    "        p.grad=None\n",
    "    loss.backward()\n",
    "    #update\n",
    "    for p in parameters:\n",
    "        p.data += -0.1*p.grad\n",
    "print(loss.item())"
   ]
  },
  {
   "cell_type": "code",
   "execution_count": 78,
   "id": "2ca4bf6e",
   "metadata": {},
   "outputs": [
    {
     "data": {
      "text/plain": [
       "torch.return_types.max(\n",
       "values=tensor([12.1724, 14.1847, 15.8096, 16.5460, 12.5090, 14.7062, 15.2590, 15.4024,\n",
       "        12.1724, 19.3660, 15.9273, 12.4720, 13.9841, 17.1356, 14.9285, 13.9812,\n",
       "        13.8305, 15.1462, 14.5532, 12.1724, 15.2042, 17.6397, 14.6976, 14.7785,\n",
       "        22.7934, 18.4190, 15.3254, 12.1724, 18.8153, 16.9008, 17.9443, 18.5473,\n",
       "        15.9426, 15.7163, 12.1724, 19.9722, 15.4614, 16.7053, 16.1372, 18.4218,\n",
       "        15.9050], grad_fn=<MaxBackward0>),\n",
       "indices=tensor([13, 19,  8,  6, 15, 21, 16,  0, 13, 10, 16, 23,  2, 15, 15, 10, 15, 16,\n",
       "         0, 13, 10,  4, 22, 19,  8,  2,  0, 13, 13, 23, 10, 19,  2,  0, 13,  2,\n",
       "        19,  6, 15,  2,  0]))"
      ]
     },
     "execution_count": 78,
     "metadata": {},
     "output_type": "execute_result"
    }
   ],
   "source": [
    "logits.max(1)"
   ]
  },
  {
   "cell_type": "code",
   "execution_count": 79,
   "id": "6d356289",
   "metadata": {},
   "outputs": [
    {
     "data": {
      "text/plain": [
       "tensor([ 2, 19,  8,  6, 15, 21, 16,  0,  8, 10, 16, 23,  2, 15, 15, 10, 15, 16,\n",
       "         0, 13, 10,  4, 22, 19,  8,  2,  0,  6, 13, 23, 10, 19,  2,  0, 14,  2,\n",
       "        19,  6, 15,  2,  0])"
      ]
     },
     "execution_count": 79,
     "metadata": {},
     "output_type": "execute_result"
    }
   ],
   "source": [
    "Y # 'almost' perfect fitting....discuss in class"
   ]
  },
  {
   "cell_type": "code",
   "execution_count": 80,
   "id": "db780882",
   "metadata": {},
   "outputs": [],
   "source": [
    "# build the dataset...using NOW all words...\n",
    "\n",
    "block_size =3 #context length: how many characters do we take to predict the next one ... change it !!\n",
    "X,Y = [],[]  # input & label\n",
    "\n",
    "#for w in words[0:5]:    before....\n",
    "for w in words:\n",
    "  #  print(w)\n",
    "    context=[0]*block_size\n",
    "    for ch in w +'.':\n",
    "        ix=stoi[ch]\n",
    "        X.append(context)\n",
    "        Y.append(ix)\n",
    "      #  print(''.join(itos[i] for i in context), '--->', itos[ix])\n",
    "        context=context[1:]+[ix]  # shift: crop and append\n",
    "X=torch.tensor(X)\n",
    "Y=torch.tensor(Y)"
   ]
  },
  {
   "cell_type": "code",
   "execution_count": 81,
   "id": "8dbc4e08",
   "metadata": {},
   "outputs": [
    {
     "data": {
      "text/plain": [
       "(torch.Size([73643, 3]), torch.Size([73643]))"
      ]
     },
     "execution_count": 81,
     "metadata": {},
     "output_type": "execute_result"
    }
   ],
   "source": [
    "X.shape, Y.shape"
   ]
  },
  {
   "cell_type": "code",
   "execution_count": 82,
   "id": "d8aa5705",
   "metadata": {},
   "outputs": [],
   "source": [
    "# exactly as before....\n",
    "g=torch.Generator().manual_seed(123456780)# for reproducibility\n",
    "C=torch.randn((28,2), generator=g)\n",
    "W1=torch.randn((6,100), generator=g)\n",
    "b1=torch.randn(100, generator=g)\n",
    "W2=torch.randn((100,28), generator=g)\n",
    "b2=torch.randn(28, generator=g)\n",
    "parameters=[C,W1,b1,W2,b2]"
   ]
  },
  {
   "cell_type": "code",
   "execution_count": 83,
   "id": "2a723dcd",
   "metadata": {},
   "outputs": [],
   "source": [
    "\n",
    "for p in parameters:\n",
    "    p.requires_grad = True"
   ]
  },
  {
   "cell_type": "code",
   "execution_count": 84,
   "id": "2133baf9",
   "metadata": {},
   "outputs": [
    {
     "name": "stdout",
     "output_type": "stream",
     "text": [
      "17.754497528076172\n",
      "15.824396133422852\n",
      "14.187442779541016\n",
      "13.052311897277832\n",
      "12.071905136108398\n",
      "11.263840675354004\n",
      "10.603142738342285\n",
      "10.075033187866211\n",
      "9.627379417419434\n",
      "9.222493171691895\n",
      "9.222493171691895\n"
     ]
    }
   ],
   "source": [
    "\n",
    "\n",
    "for _ in range(10):\n",
    "    # now we learn...forward bass -- = 73643\n",
    "    emb=C[X] # torch.Size([--, 3, 2])\n",
    "    h=torch.tanh(emb.view(-1,6) @ W1 + b1) #(--,100)\n",
    "    logits= h @ W2 + b2 #(--,27)\n",
    "    loss=F.cross_entropy(logits,Y)\n",
    "    print(loss.item())\n",
    "    # backward pass \n",
    "    for p in parameters:\n",
    "        p.grad=None\n",
    "    loss.backward()\n",
    "    #update\n",
    "    for p in parameters:\n",
    "        p.data += -0.1*p.grad\n",
    "print(loss.item())"
   ]
  },
  {
   "cell_type": "code",
   "execution_count": 85,
   "id": "921206f9",
   "metadata": {},
   "outputs": [
    {
     "data": {
      "text/plain": [
       "tensor([42957, 29334, 50020, 29058, 69743, 58808, 38095,  9633, 69892, 36965])"
      ]
     },
     "execution_count": 85,
     "metadata": {},
     "output_type": "execute_result"
    }
   ],
   "source": [
    "# see how it is 'slowing down'...we always update on all the examples...we are going to use mini batches as usual...\n",
    "\n",
    "ix=torch.randint(0,X.shape[0],(10,)) #try ix=torch.randint(0,X.shape[0],(10,2)) and explain\n",
    "#https://pytorch.org/docs/stable/generated/torch.randint.html\n",
    "ix"
   ]
  },
  {
   "cell_type": "code",
   "execution_count": 86,
   "id": "13457f3e",
   "metadata": {},
   "outputs": [
    {
     "data": {
      "text/plain": [
       "tensor([[42617],\n",
       "        [19085],\n",
       "        [13989],\n",
       "        [61220],\n",
       "        [63555],\n",
       "        [ 8924],\n",
       "        [72132],\n",
       "        [67766],\n",
       "        [ 4202],\n",
       "        [ 2495]])"
      ]
     },
     "execution_count": 86,
     "metadata": {},
     "output_type": "execute_result"
    }
   ],
   "source": [
    "ix=torch.randint(0,X.shape[0],(10,1))\n",
    "ix"
   ]
  },
  {
   "cell_type": "code",
   "execution_count": 87,
   "id": "a957e768",
   "metadata": {},
   "outputs": [
    {
     "name": "stdout",
     "output_type": "stream",
     "text": [
      "9.986282348632812\n",
      "8.242542266845703\n",
      "8.855523109436035\n",
      "8.000667572021484\n",
      "9.092164039611816\n",
      "6.837028503417969\n",
      "6.778961181640625\n",
      "7.408243656158447\n",
      "6.972431182861328\n",
      "5.410933971405029\n",
      "5.410933971405029\n"
     ]
    }
   ],
   "source": [
    "for _ in range(10):\n",
    "    \n",
    "    # mini batch construct of size ...\n",
    "    ix=torch.randint(0,X.shape[0],(32,))\n",
    "    # now we learn...forward bass -- = 73643\n",
    "    emb=C[X[ix]] # torch.Size([--, 3, 2])\n",
    "    h=torch.tanh(emb.view(-1,6) @ W1 + b1) #(--,100)\n",
    "    logits= h @ W2 + b2 #(--,27)\n",
    "    loss=F.cross_entropy(logits,Y[ix])\n",
    "    print(loss.item())\n",
    "    # backward pass \n",
    "    for p in parameters:\n",
    "        p.grad=None\n",
    "    loss.backward()\n",
    "    #update\n",
    "    for p in parameters:\n",
    "        p.data += -0.1*p.grad\n",
    "print(loss.item())"
   ]
  },
  {
   "cell_type": "code",
   "execution_count": 88,
   "id": "46d55ceb",
   "metadata": {},
   "outputs": [],
   "source": [
    "# how we define the 'learning rate' ? p.data += -0.1*p.grad\n",
    "# play with learning rate from .01 to 100.... and discuss\n",
    "\n"
   ]
  },
  {
   "cell_type": "code",
   "execution_count": 89,
   "id": "a53b007f",
   "metadata": {},
   "outputs": [
    {
     "name": "stdout",
     "output_type": "stream",
     "text": [
      "5.850777626037598\n",
      "5.865908145904541\n",
      "5.786350727081299\n",
      "4.8667521476745605\n",
      "5.434114933013916\n",
      "5.438040256500244\n",
      "5.6897687911987305\n",
      "5.500351428985596\n",
      "4.790558338165283\n",
      "4.027356147766113\n",
      "5.112647533416748\n",
      "6.0281877517700195\n",
      "4.616296768188477\n",
      "4.072530746459961\n",
      "4.057021141052246\n",
      "4.7194108963012695\n",
      "3.8276472091674805\n",
      "4.471261024475098\n",
      "4.182687282562256\n",
      "3.328023910522461\n",
      "3.9619619846343994\n",
      "4.236965179443359\n",
      "4.331294536590576\n",
      "4.226633071899414\n",
      "4.287997245788574\n",
      "4.207923412322998\n",
      "4.299047470092773\n",
      "4.520242214202881\n",
      "3.9141674041748047\n",
      "3.763418674468994\n",
      "3.712799310684204\n",
      "3.4371261596679688\n",
      "3.6834466457366943\n",
      "3.7052292823791504\n",
      "3.3741745948791504\n",
      "4.367226600646973\n",
      "3.2739880084991455\n",
      "3.4422802925109863\n",
      "3.605750322341919\n",
      "3.6163253784179688\n",
      "3.848494529724121\n",
      "3.314823865890503\n",
      "3.6995296478271484\n",
      "3.288710832595825\n",
      "3.1214494705200195\n",
      "3.2546558380126953\n",
      "3.0678937435150146\n",
      "3.222710371017456\n",
      "3.122438669204712\n",
      "3.5076630115509033\n"
     ]
    }
   ],
   "source": [
    "for _ in range(50):\n",
    "    \n",
    "    # mini batch construct\n",
    "    ix=torch.randint(0,X.shape[0],(100,))\n",
    "    # now we learn...forward bass -- = 73643\n",
    "    emb=C[X[ix]] # torch.Size([--, 3, 2])\n",
    "    h=torch.tanh(emb.view(-1,6) @ W1 + b1) #(--,100)\n",
    "    logits= h @ W2 + b2 #(--,27)\n",
    "    loss=F.cross_entropy(logits,Y[ix])\n",
    "    print(loss.item())\n",
    "    # backward pass \n",
    "    for p in parameters:\n",
    "        p.grad=None\n",
    "    loss.backward()\n",
    "    #update\n",
    "    for p in parameters:\n",
    "        p.data += -.1*p.grad\n",
    "#print(loss.item())"
   ]
  },
  {
   "cell_type": "code",
   "execution_count": 90,
   "id": "d496d66a",
   "metadata": {},
   "outputs": [
    {
     "data": {
      "text/plain": [
       "tensor([0.0010, 0.0010, 0.0010, 0.0010, 0.0010, 0.0010, 0.0010, 0.0010, 0.0011,\n",
       "        0.0011, 0.0011, 0.0011, 0.0011, 0.0011, 0.0011, 0.0011, 0.0011, 0.0011,\n",
       "        0.0011, 0.0011, 0.0011, 0.0012, 0.0012, 0.0012, 0.0012, 0.0012, 0.0012,\n",
       "        0.0012, 0.0012, 0.0012, 0.0012, 0.0012, 0.0012, 0.0013, 0.0013, 0.0013,\n",
       "        0.0013, 0.0013, 0.0013, 0.0013, 0.0013, 0.0013, 0.0013, 0.0013, 0.0014,\n",
       "        0.0014, 0.0014, 0.0014, 0.0014, 0.0014, 0.0014, 0.0014, 0.0014, 0.0014,\n",
       "        0.0015, 0.0015, 0.0015, 0.0015, 0.0015, 0.0015, 0.0015, 0.0015, 0.0015,\n",
       "        0.0015, 0.0016, 0.0016, 0.0016, 0.0016, 0.0016, 0.0016, 0.0016, 0.0016,\n",
       "        0.0016, 0.0017, 0.0017, 0.0017, 0.0017, 0.0017, 0.0017, 0.0017, 0.0017,\n",
       "        0.0018, 0.0018, 0.0018, 0.0018, 0.0018, 0.0018, 0.0018, 0.0018, 0.0019,\n",
       "        0.0019, 0.0019, 0.0019, 0.0019, 0.0019, 0.0019, 0.0019, 0.0020, 0.0020,\n",
       "        0.0020, 0.0020, 0.0020, 0.0020, 0.0020, 0.0021, 0.0021, 0.0021, 0.0021,\n",
       "        0.0021, 0.0021, 0.0021, 0.0022, 0.0022, 0.0022, 0.0022, 0.0022, 0.0022,\n",
       "        0.0022, 0.0023, 0.0023, 0.0023, 0.0023, 0.0023, 0.0023, 0.0024, 0.0024,\n",
       "        0.0024, 0.0024, 0.0024, 0.0024, 0.0025, 0.0025, 0.0025, 0.0025, 0.0025,\n",
       "        0.0025, 0.0026, 0.0026, 0.0026, 0.0026, 0.0026, 0.0027, 0.0027, 0.0027,\n",
       "        0.0027, 0.0027, 0.0027, 0.0028, 0.0028, 0.0028, 0.0028, 0.0028, 0.0029,\n",
       "        0.0029, 0.0029, 0.0029, 0.0029, 0.0030, 0.0030, 0.0030, 0.0030, 0.0030,\n",
       "        0.0031, 0.0031, 0.0031, 0.0031, 0.0032, 0.0032, 0.0032, 0.0032, 0.0032,\n",
       "        0.0033, 0.0033, 0.0033, 0.0033, 0.0034, 0.0034, 0.0034, 0.0034, 0.0034,\n",
       "        0.0035, 0.0035, 0.0035, 0.0035, 0.0036, 0.0036, 0.0036, 0.0036, 0.0037,\n",
       "        0.0037, 0.0037, 0.0037, 0.0038, 0.0038, 0.0038, 0.0039, 0.0039, 0.0039,\n",
       "        0.0039, 0.0040, 0.0040, 0.0040, 0.0040, 0.0041, 0.0041, 0.0041, 0.0042,\n",
       "        0.0042, 0.0042, 0.0042, 0.0043, 0.0043, 0.0043, 0.0044, 0.0044, 0.0044,\n",
       "        0.0045, 0.0045, 0.0045, 0.0045, 0.0046, 0.0046, 0.0046, 0.0047, 0.0047,\n",
       "        0.0047, 0.0048, 0.0048, 0.0048, 0.0049, 0.0049, 0.0049, 0.0050, 0.0050,\n",
       "        0.0050, 0.0051, 0.0051, 0.0051, 0.0052, 0.0052, 0.0053, 0.0053, 0.0053,\n",
       "        0.0054, 0.0054, 0.0054, 0.0055, 0.0055, 0.0056, 0.0056, 0.0056, 0.0057,\n",
       "        0.0057, 0.0058, 0.0058, 0.0058, 0.0059, 0.0059, 0.0060, 0.0060, 0.0060,\n",
       "        0.0061, 0.0061, 0.0062, 0.0062, 0.0062, 0.0063, 0.0063, 0.0064, 0.0064,\n",
       "        0.0065, 0.0065, 0.0066, 0.0066, 0.0067, 0.0067, 0.0067, 0.0068, 0.0068,\n",
       "        0.0069, 0.0069, 0.0070, 0.0070, 0.0071, 0.0071, 0.0072, 0.0072, 0.0073,\n",
       "        0.0073, 0.0074, 0.0074, 0.0075, 0.0075, 0.0076, 0.0076, 0.0077, 0.0077,\n",
       "        0.0078, 0.0079, 0.0079, 0.0080, 0.0080, 0.0081, 0.0081, 0.0082, 0.0082,\n",
       "        0.0083, 0.0084, 0.0084, 0.0085, 0.0085, 0.0086, 0.0086, 0.0087, 0.0088,\n",
       "        0.0088, 0.0089, 0.0090, 0.0090, 0.0091, 0.0091, 0.0092, 0.0093, 0.0093,\n",
       "        0.0094, 0.0095, 0.0095, 0.0096, 0.0097, 0.0097, 0.0098, 0.0099, 0.0099,\n",
       "        0.0100, 0.0101, 0.0101, 0.0102, 0.0103, 0.0104, 0.0104, 0.0105, 0.0106,\n",
       "        0.0106, 0.0107, 0.0108, 0.0109, 0.0109, 0.0110, 0.0111, 0.0112, 0.0112,\n",
       "        0.0113, 0.0114, 0.0115, 0.0116, 0.0116, 0.0117, 0.0118, 0.0119, 0.0120,\n",
       "        0.0121, 0.0121, 0.0122, 0.0123, 0.0124, 0.0125, 0.0126, 0.0127, 0.0127,\n",
       "        0.0128, 0.0129, 0.0130, 0.0131, 0.0132, 0.0133, 0.0134, 0.0135, 0.0136,\n",
       "        0.0137, 0.0137, 0.0138, 0.0139, 0.0140, 0.0141, 0.0142, 0.0143, 0.0144,\n",
       "        0.0145, 0.0146, 0.0147, 0.0148, 0.0149, 0.0150, 0.0151, 0.0152, 0.0154,\n",
       "        0.0155, 0.0156, 0.0157, 0.0158, 0.0159, 0.0160, 0.0161, 0.0162, 0.0163,\n",
       "        0.0165, 0.0166, 0.0167, 0.0168, 0.0169, 0.0170, 0.0171, 0.0173, 0.0174,\n",
       "        0.0175, 0.0176, 0.0178, 0.0179, 0.0180, 0.0181, 0.0182, 0.0184, 0.0185,\n",
       "        0.0186, 0.0188, 0.0189, 0.0190, 0.0192, 0.0193, 0.0194, 0.0196, 0.0197,\n",
       "        0.0198, 0.0200, 0.0201, 0.0202, 0.0204, 0.0205, 0.0207, 0.0208, 0.0210,\n",
       "        0.0211, 0.0212, 0.0214, 0.0215, 0.0217, 0.0218, 0.0220, 0.0221, 0.0223,\n",
       "        0.0225, 0.0226, 0.0228, 0.0229, 0.0231, 0.0232, 0.0234, 0.0236, 0.0237,\n",
       "        0.0239, 0.0241, 0.0242, 0.0244, 0.0246, 0.0247, 0.0249, 0.0251, 0.0253,\n",
       "        0.0254, 0.0256, 0.0258, 0.0260, 0.0261, 0.0263, 0.0265, 0.0267, 0.0269,\n",
       "        0.0271, 0.0273, 0.0274, 0.0276, 0.0278, 0.0280, 0.0282, 0.0284, 0.0286,\n",
       "        0.0288, 0.0290, 0.0292, 0.0294, 0.0296, 0.0298, 0.0300, 0.0302, 0.0304,\n",
       "        0.0307, 0.0309, 0.0311, 0.0313, 0.0315, 0.0317, 0.0320, 0.0322, 0.0324,\n",
       "        0.0326, 0.0328, 0.0331, 0.0333, 0.0335, 0.0338, 0.0340, 0.0342, 0.0345,\n",
       "        0.0347, 0.0350, 0.0352, 0.0354, 0.0357, 0.0359, 0.0362, 0.0364, 0.0367,\n",
       "        0.0369, 0.0372, 0.0375, 0.0377, 0.0380, 0.0382, 0.0385, 0.0388, 0.0390,\n",
       "        0.0393, 0.0396, 0.0399, 0.0401, 0.0404, 0.0407, 0.0410, 0.0413, 0.0416,\n",
       "        0.0418, 0.0421, 0.0424, 0.0427, 0.0430, 0.0433, 0.0436, 0.0439, 0.0442,\n",
       "        0.0445, 0.0448, 0.0451, 0.0455, 0.0458, 0.0461, 0.0464, 0.0467, 0.0471,\n",
       "        0.0474, 0.0477, 0.0480, 0.0484, 0.0487, 0.0491, 0.0494, 0.0497, 0.0501,\n",
       "        0.0504, 0.0508, 0.0511, 0.0515, 0.0518, 0.0522, 0.0526, 0.0529, 0.0533,\n",
       "        0.0537, 0.0540, 0.0544, 0.0548, 0.0552, 0.0556, 0.0559, 0.0563, 0.0567,\n",
       "        0.0571, 0.0575, 0.0579, 0.0583, 0.0587, 0.0591, 0.0595, 0.0599, 0.0604,\n",
       "        0.0608, 0.0612, 0.0616, 0.0621, 0.0625, 0.0629, 0.0634, 0.0638, 0.0642,\n",
       "        0.0647, 0.0651, 0.0656, 0.0660, 0.0665, 0.0670, 0.0674, 0.0679, 0.0684,\n",
       "        0.0688, 0.0693, 0.0698, 0.0703, 0.0708, 0.0713, 0.0718, 0.0723, 0.0728,\n",
       "        0.0733, 0.0738, 0.0743, 0.0748, 0.0753, 0.0758, 0.0764, 0.0769, 0.0774,\n",
       "        0.0780, 0.0785, 0.0790, 0.0796, 0.0802, 0.0807, 0.0813, 0.0818, 0.0824,\n",
       "        0.0830, 0.0835, 0.0841, 0.0847, 0.0853, 0.0859, 0.0865, 0.0871, 0.0877,\n",
       "        0.0883, 0.0889, 0.0895, 0.0901, 0.0908, 0.0914, 0.0920, 0.0927, 0.0933,\n",
       "        0.0940, 0.0946, 0.0953, 0.0959, 0.0966, 0.0973, 0.0979, 0.0986, 0.0993,\n",
       "        0.1000, 0.1007, 0.1014, 0.1021, 0.1028, 0.1035, 0.1042, 0.1050, 0.1057,\n",
       "        0.1064, 0.1072, 0.1079, 0.1087, 0.1094, 0.1102, 0.1109, 0.1117, 0.1125,\n",
       "        0.1133, 0.1140, 0.1148, 0.1156, 0.1164, 0.1172, 0.1181, 0.1189, 0.1197,\n",
       "        0.1205, 0.1214, 0.1222, 0.1231, 0.1239, 0.1248, 0.1256, 0.1265, 0.1274,\n",
       "        0.1283, 0.1292, 0.1301, 0.1310, 0.1319, 0.1328, 0.1337, 0.1346, 0.1356,\n",
       "        0.1365, 0.1374, 0.1384, 0.1394, 0.1403, 0.1413, 0.1423, 0.1433, 0.1443,\n",
       "        0.1453, 0.1463, 0.1473, 0.1483, 0.1493, 0.1504, 0.1514, 0.1525, 0.1535,\n",
       "        0.1546, 0.1557, 0.1567, 0.1578, 0.1589, 0.1600, 0.1611, 0.1623, 0.1634,\n",
       "        0.1645, 0.1657, 0.1668, 0.1680, 0.1691, 0.1703, 0.1715, 0.1727, 0.1739,\n",
       "        0.1751, 0.1763, 0.1775, 0.1788, 0.1800, 0.1812, 0.1825, 0.1838, 0.1850,\n",
       "        0.1863, 0.1876, 0.1889, 0.1902, 0.1916, 0.1929, 0.1942, 0.1956, 0.1969,\n",
       "        0.1983, 0.1997, 0.2010, 0.2024, 0.2038, 0.2053, 0.2067, 0.2081, 0.2096,\n",
       "        0.2110, 0.2125, 0.2140, 0.2154, 0.2169, 0.2184, 0.2200, 0.2215, 0.2230,\n",
       "        0.2246, 0.2261, 0.2277, 0.2293, 0.2309, 0.2325, 0.2341, 0.2357, 0.2373,\n",
       "        0.2390, 0.2406, 0.2423, 0.2440, 0.2457, 0.2474, 0.2491, 0.2508, 0.2526,\n",
       "        0.2543, 0.2561, 0.2579, 0.2597, 0.2615, 0.2633, 0.2651, 0.2669, 0.2688,\n",
       "        0.2707, 0.2725, 0.2744, 0.2763, 0.2783, 0.2802, 0.2821, 0.2841, 0.2861,\n",
       "        0.2880, 0.2900, 0.2921, 0.2941, 0.2961, 0.2982, 0.3002, 0.3023, 0.3044,\n",
       "        0.3065, 0.3087, 0.3108, 0.3130, 0.3151, 0.3173, 0.3195, 0.3217, 0.3240,\n",
       "        0.3262, 0.3285, 0.3308, 0.3331, 0.3354, 0.3377, 0.3400, 0.3424, 0.3448,\n",
       "        0.3472, 0.3496, 0.3520, 0.3544, 0.3569, 0.3594, 0.3619, 0.3644, 0.3669,\n",
       "        0.3695, 0.3720, 0.3746, 0.3772, 0.3798, 0.3825, 0.3851, 0.3878, 0.3905,\n",
       "        0.3932, 0.3959, 0.3987, 0.4014, 0.4042, 0.4070, 0.4098, 0.4127, 0.4155,\n",
       "        0.4184, 0.4213, 0.4243, 0.4272, 0.4302, 0.4331, 0.4362, 0.4392, 0.4422,\n",
       "        0.4453, 0.4484, 0.4515, 0.4546, 0.4578, 0.4610, 0.4642, 0.4674, 0.4706,\n",
       "        0.4739, 0.4772, 0.4805, 0.4838, 0.4872, 0.4906, 0.4940, 0.4974, 0.5008,\n",
       "        0.5043, 0.5078, 0.5113, 0.5149, 0.5185, 0.5221, 0.5257, 0.5293, 0.5330,\n",
       "        0.5367, 0.5404, 0.5442, 0.5479, 0.5517, 0.5556, 0.5594, 0.5633, 0.5672,\n",
       "        0.5712, 0.5751, 0.5791, 0.5831, 0.5872, 0.5913, 0.5954, 0.5995, 0.6036,\n",
       "        0.6078, 0.6120, 0.6163, 0.6206, 0.6249, 0.6292, 0.6336, 0.6380, 0.6424,\n",
       "        0.6469, 0.6513, 0.6559, 0.6604, 0.6650, 0.6696, 0.6743, 0.6789, 0.6837,\n",
       "        0.6884, 0.6932, 0.6980, 0.7028, 0.7077, 0.7126, 0.7176, 0.7225, 0.7275,\n",
       "        0.7326, 0.7377, 0.7428, 0.7480, 0.7531, 0.7584, 0.7636, 0.7689, 0.7743,\n",
       "        0.7796, 0.7850, 0.7905, 0.7960, 0.8015, 0.8071, 0.8127, 0.8183, 0.8240,\n",
       "        0.8297, 0.8355, 0.8412, 0.8471, 0.8530, 0.8589, 0.8648, 0.8708, 0.8769,\n",
       "        0.8830, 0.8891, 0.8953, 0.9015, 0.9077, 0.9140, 0.9204, 0.9268, 0.9332,\n",
       "        0.9397, 0.9462, 0.9528, 0.9594, 0.9660, 0.9727, 0.9795, 0.9863, 0.9931,\n",
       "        1.0000])"
      ]
     },
     "execution_count": 90,
     "metadata": {},
     "output_type": "execute_result"
    }
   ],
   "source": [
    "lre=torch.linspace(-3,0,1000)\n",
    "lrs= 10**lre\n",
    "lrs"
   ]
  },
  {
   "cell_type": "code",
   "execution_count": 91,
   "id": "cefe44d1",
   "metadata": {},
   "outputs": [
    {
     "name": "stdout",
     "output_type": "stream",
     "text": [
      "0 3.7157647609710693\n",
      "1 3.6248836517333984\n",
      "2 3.0930681228637695\n",
      "3 3.5023770332336426\n",
      "4 3.3277859687805176\n",
      "5 3.3280673027038574\n",
      "6 3.3130550384521484\n",
      "7 3.287503242492676\n",
      "8 3.1899445056915283\n",
      "9 3.9903059005737305\n",
      "10 3.5193605422973633\n",
      "11 3.125523090362549\n",
      "12 3.0544302463531494\n",
      "13 3.721595048904419\n",
      "14 3.1568596363067627\n",
      "15 3.2982845306396484\n",
      "16 3.245513916015625\n",
      "17 3.141608953475952\n",
      "18 3.0499954223632812\n",
      "19 3.0378522872924805\n",
      "20 3.4316775798797607\n",
      "21 2.707904577255249\n",
      "22 3.3930246829986572\n",
      "23 2.689980983734131\n",
      "24 3.3083412647247314\n",
      "25 3.5359716415405273\n",
      "26 3.3783273696899414\n",
      "27 3.6552090644836426\n",
      "28 3.2937488555908203\n",
      "29 3.2794268131256104\n",
      "30 3.5720624923706055\n",
      "31 3.53977108001709\n",
      "32 3.6868896484375\n",
      "33 3.5118181705474854\n",
      "34 3.4156694412231445\n",
      "35 3.438433885574341\n",
      "36 3.1832404136657715\n",
      "37 3.508671522140503\n",
      "38 3.483262300491333\n",
      "39 2.98917293548584\n",
      "40 3.0915136337280273\n",
      "41 3.280789375305176\n",
      "42 2.8653268814086914\n",
      "43 3.109123945236206\n",
      "44 3.034956693649292\n",
      "45 3.5340218544006348\n",
      "46 3.484757900238037\n",
      "47 3.4144372940063477\n",
      "48 3.2794530391693115\n",
      "49 3.67647647857666\n",
      "50 3.090698480606079\n",
      "51 2.931276559829712\n",
      "52 3.406512498855591\n",
      "53 3.043524742126465\n",
      "54 3.3181798458099365\n",
      "55 3.166700839996338\n",
      "56 3.641869306564331\n",
      "57 3.817380905151367\n",
      "58 3.2038893699645996\n",
      "59 3.8113584518432617\n",
      "60 3.5713634490966797\n",
      "61 3.4636917114257812\n",
      "62 3.7053072452545166\n",
      "63 3.318513870239258\n",
      "64 3.9042139053344727\n",
      "65 3.46405029296875\n",
      "66 3.4400012493133545\n",
      "67 3.3286514282226562\n",
      "68 3.2286031246185303\n",
      "69 3.407116413116455\n",
      "70 3.5901830196380615\n",
      "71 3.2963128089904785\n",
      "72 3.3233933448791504\n",
      "73 3.283176898956299\n",
      "74 3.4589836597442627\n",
      "75 3.284271478652954\n",
      "76 3.1771185398101807\n",
      "77 2.988368034362793\n",
      "78 3.2402820587158203\n",
      "79 3.527334213256836\n",
      "80 3.3241944313049316\n",
      "81 2.942046880722046\n",
      "82 3.2842955589294434\n",
      "83 3.442622423171997\n",
      "84 3.3003008365631104\n",
      "85 3.3469114303588867\n",
      "86 3.6410322189331055\n",
      "87 3.342012405395508\n",
      "88 2.9232261180877686\n",
      "89 2.946152687072754\n",
      "90 3.3148880004882812\n",
      "91 3.7821555137634277\n",
      "92 3.520737409591675\n",
      "93 2.998342990875244\n",
      "94 3.2343151569366455\n",
      "95 3.1379146575927734\n",
      "96 3.389416217803955\n",
      "97 3.476350784301758\n",
      "98 3.0058116912841797\n",
      "99 3.3952767848968506\n",
      "100 3.343132972717285\n",
      "101 2.5797557830810547\n",
      "102 3.218503952026367\n",
      "103 3.0120956897735596\n",
      "104 2.864199161529541\n",
      "105 3.0136940479278564\n",
      "106 3.073154926300049\n",
      "107 3.2737176418304443\n",
      "108 2.830719232559204\n",
      "109 3.128730535507202\n",
      "110 3.157137155532837\n",
      "111 3.443251371383667\n",
      "112 2.9496145248413086\n",
      "113 3.1875901222229004\n",
      "114 3.3016247749328613\n",
      "115 3.215744733810425\n",
      "116 2.9386260509490967\n",
      "117 3.608563184738159\n",
      "118 3.8664398193359375\n",
      "119 3.3231449127197266\n",
      "120 3.4235591888427734\n",
      "121 2.759563684463501\n",
      "122 3.9566686153411865\n",
      "123 3.44248628616333\n",
      "124 2.949025869369507\n",
      "125 3.2201077938079834\n",
      "126 2.9317216873168945\n",
      "127 2.7091825008392334\n",
      "128 3.5851356983184814\n",
      "129 3.4621942043304443\n",
      "130 3.132704734802246\n",
      "131 3.203244686126709\n",
      "132 3.311431884765625\n",
      "133 2.8877599239349365\n",
      "134 3.1716811656951904\n",
      "135 3.1154088973999023\n",
      "136 2.999203681945801\n",
      "137 3.3538522720336914\n",
      "138 3.240971565246582\n",
      "139 3.3872339725494385\n",
      "140 3.399026870727539\n",
      "141 3.281597852706909\n",
      "142 3.316953182220459\n",
      "143 3.2649898529052734\n",
      "144 2.7986462116241455\n",
      "145 3.7198822498321533\n",
      "146 2.769376754760742\n",
      "147 3.4202895164489746\n",
      "148 3.1592633724212646\n",
      "149 3.1976113319396973\n",
      "150 3.003183603286743\n",
      "151 3.382091999053955\n",
      "152 3.806598424911499\n",
      "153 2.989596366882324\n",
      "154 3.4159750938415527\n",
      "155 3.6998095512390137\n",
      "156 3.231313467025757\n",
      "157 2.924243211746216\n",
      "158 3.4790537357330322\n",
      "159 3.295668363571167\n",
      "160 3.145303964614868\n",
      "161 3.147412061691284\n",
      "162 3.1937575340270996\n",
      "163 3.3507611751556396\n",
      "164 3.3849706649780273\n",
      "165 3.5262603759765625\n",
      "166 2.7489233016967773\n",
      "167 2.9141955375671387\n",
      "168 3.3834469318389893\n",
      "169 3.204787492752075\n",
      "170 3.132734775543213\n",
      "171 3.4384992122650146\n",
      "172 3.3290698528289795\n",
      "173 3.658017635345459\n",
      "174 3.3794314861297607\n",
      "175 3.2277326583862305\n",
      "176 3.3536453247070312\n",
      "177 2.9763662815093994\n",
      "178 3.5508530139923096\n",
      "179 3.5958971977233887\n",
      "180 3.982564687728882\n",
      "181 2.9656732082366943\n",
      "182 2.877406358718872\n",
      "183 3.0622711181640625\n",
      "184 3.006887197494507\n",
      "185 3.586216449737549\n",
      "186 3.296820640563965\n",
      "187 3.507159948348999\n",
      "188 3.0464932918548584\n",
      "189 3.1786186695098877\n",
      "190 3.3308663368225098\n",
      "191 3.352705717086792\n",
      "192 3.5287015438079834\n",
      "193 3.243537664413452\n",
      "194 2.938509941101074\n",
      "195 2.875303268432617\n",
      "196 3.10520076751709\n",
      "197 2.951314926147461\n",
      "198 3.276737928390503\n",
      "199 3.1527292728424072\n",
      "200 3.280322551727295\n",
      "201 3.1314709186553955\n",
      "202 3.1737852096557617\n",
      "203 2.8129563331604004\n",
      "204 3.3806991577148438\n",
      "205 2.834162950515747\n",
      "206 2.9298291206359863\n",
      "207 3.542830467224121\n",
      "208 3.2423830032348633\n",
      "209 3.570187568664551\n",
      "210 2.9959137439727783\n",
      "211 3.4453139305114746\n",
      "212 3.12253475189209\n",
      "213 3.7895302772521973\n",
      "214 3.203092098236084\n",
      "215 3.4762303829193115\n",
      "216 2.8231568336486816\n",
      "217 3.156484365463257\n",
      "218 3.016608476638794\n",
      "219 3.4341440200805664\n",
      "220 3.543766498565674\n",
      "221 3.195946455001831\n",
      "222 3.0194995403289795\n",
      "223 3.3777050971984863\n",
      "224 3.218417167663574\n",
      "225 3.6875221729278564\n",
      "226 3.2900900840759277\n",
      "227 3.0017919540405273\n",
      "228 3.3255233764648438\n",
      "229 2.789790630340576\n",
      "230 3.3559365272521973\n",
      "231 3.544602632522583\n",
      "232 3.513202428817749\n",
      "233 2.941370964050293\n",
      "234 3.1687467098236084\n",
      "235 3.2319509983062744\n",
      "236 3.115957736968994\n",
      "237 3.8081676959991455\n",
      "238 3.291837692260742\n",
      "239 3.312894344329834\n",
      "240 3.28948974609375\n",
      "241 2.9851224422454834\n",
      "242 2.89072322845459\n",
      "243 3.188899278640747\n",
      "244 3.74222469329834\n",
      "245 3.0941710472106934\n",
      "246 3.1956403255462646\n",
      "247 3.8140015602111816\n",
      "248 2.941450834274292\n",
      "249 3.1489555835723877\n",
      "250 3.429995059967041\n",
      "251 3.656611919403076\n",
      "252 3.627898931503296\n",
      "253 2.9854092597961426\n",
      "254 3.3896470069885254\n",
      "255 3.539742946624756\n",
      "256 3.0790352821350098\n",
      "257 3.4734952449798584\n",
      "258 3.521158218383789\n",
      "259 3.5631606578826904\n",
      "260 3.3468234539031982\n",
      "261 2.892718553543091\n",
      "262 3.215853691101074\n",
      "263 3.3982579708099365\n",
      "264 2.8188281059265137\n",
      "265 2.8753418922424316\n",
      "266 3.4596872329711914\n",
      "267 2.907137393951416\n",
      "268 3.044618844985962\n",
      "269 3.2706258296966553\n",
      "270 3.169401168823242\n",
      "271 3.1424269676208496\n",
      "272 3.3443403244018555\n",
      "273 3.3367257118225098\n",
      "274 3.3421576023101807\n",
      "275 3.1311631202697754\n",
      "276 3.2276930809020996\n",
      "277 3.055189609527588\n",
      "278 3.207746982574463\n",
      "279 3.1648473739624023\n",
      "280 2.858126640319824\n",
      "281 3.673689603805542\n",
      "282 3.145965576171875\n",
      "283 3.340986967086792\n",
      "284 2.862027645111084\n",
      "285 3.662879705429077\n",
      "286 3.099076271057129\n",
      "287 3.168456792831421\n",
      "288 3.0416009426116943\n",
      "289 2.7049572467803955\n",
      "290 2.9805896282196045\n",
      "291 2.9532108306884766\n",
      "292 3.0857412815093994\n",
      "293 3.2674927711486816\n",
      "294 3.0030558109283447\n",
      "295 3.134598731994629\n",
      "296 3.4440348148345947\n",
      "297 3.689129590988159\n",
      "298 3.0531656742095947\n",
      "299 3.6085283756256104\n",
      "300 3.074829339981079\n",
      "301 3.0360653400421143\n",
      "302 3.1793880462646484\n",
      "303 2.896118402481079\n",
      "304 3.5770645141601562\n",
      "305 3.494309425354004\n",
      "306 2.597935438156128\n",
      "307 3.1448092460632324\n",
      "308 3.592575788497925\n",
      "309 3.0407423973083496\n",
      "310 3.496284246444702\n",
      "311 3.014674663543701\n",
      "312 2.849369525909424\n",
      "313 3.4610018730163574\n",
      "314 3.339810371398926\n",
      "315 3.4690170288085938\n",
      "316 2.7972183227539062\n",
      "317 3.480161666870117\n",
      "318 2.791019916534424\n",
      "319 2.7039177417755127\n",
      "320 3.1699609756469727\n",
      "321 2.929619550704956\n",
      "322 3.278452157974243\n",
      "323 3.119420051574707\n",
      "324 2.912612199783325\n",
      "325 2.960458278656006\n",
      "326 3.0882577896118164\n",
      "327 3.258340358734131\n",
      "328 3.019622802734375\n",
      "329 2.89058256149292\n",
      "330 3.0652785301208496\n",
      "331 3.3759841918945312\n",
      "332 2.868823766708374\n",
      "333 2.873669147491455\n",
      "334 3.2387142181396484\n",
      "335 2.985781669616699\n",
      "336 3.4202215671539307\n",
      "337 3.0121965408325195\n",
      "338 2.8100244998931885\n",
      "339 2.9088549613952637\n",
      "340 2.873352289199829\n",
      "341 3.0092649459838867\n",
      "342 3.1205966472625732\n",
      "343 3.4095401763916016\n",
      "344 2.9752988815307617\n",
      "345 4.087208271026611\n",
      "346 2.89334774017334\n",
      "347 3.2162885665893555\n",
      "348 3.5295827388763428\n",
      "349 2.9557199478149414\n",
      "350 3.1131625175476074\n",
      "351 3.143566370010376\n",
      "352 3.0648629665374756\n",
      "353 3.2505686283111572\n",
      "354 2.897965431213379\n",
      "355 3.0636019706726074\n",
      "356 2.985041856765747\n",
      "357 2.6577510833740234\n",
      "358 2.938305377960205\n",
      "359 3.414793014526367\n",
      "360 3.353701591491699\n",
      "361 2.9101076126098633\n",
      "362 3.241811513900757\n",
      "363 3.173969030380249\n",
      "364 3.1945583820343018\n",
      "365 3.705348014831543\n",
      "366 2.905364751815796\n",
      "367 2.8162448406219482\n",
      "368 3.2868988513946533\n",
      "369 3.210951805114746\n",
      "370 3.158914566040039\n",
      "371 3.1333513259887695\n",
      "372 3.210373640060425\n",
      "373 3.2517881393432617\n",
      "374 4.145221710205078\n",
      "375 3.125244140625\n",
      "376 3.580533981323242\n",
      "377 2.918130397796631\n",
      "378 3.4682111740112305\n",
      "379 3.5050928592681885\n",
      "380 3.0062484741210938\n",
      "381 2.9507672786712646\n",
      "382 2.9938974380493164\n",
      "383 2.764849901199341\n",
      "384 3.0493853092193604\n",
      "385 3.2105932235717773\n",
      "386 3.0661871433258057\n",
      "387 3.4544782638549805\n",
      "388 2.6438889503479004\n",
      "389 3.196054697036743\n",
      "390 2.892458915710449\n",
      "391 2.9472591876983643\n",
      "392 3.790367364883423\n",
      "393 3.6413004398345947\n",
      "394 3.2449283599853516\n",
      "395 3.0024192333221436\n",
      "396 2.9098598957061768\n",
      "397 2.992647647857666\n",
      "398 3.698636054992676\n",
      "399 3.2335808277130127\n",
      "400 3.2941696643829346\n",
      "401 2.766735553741455\n",
      "402 2.998072862625122\n",
      "403 2.896246910095215\n",
      "404 2.7536842823028564\n",
      "405 3.1418027877807617\n",
      "406 3.200096368789673\n",
      "407 2.9609203338623047\n",
      "408 3.1872458457946777\n",
      "409 2.9393506050109863\n",
      "410 2.872600793838501\n",
      "411 3.3063700199127197\n",
      "412 2.876119613647461\n",
      "413 3.2970430850982666\n",
      "414 3.1509006023406982\n",
      "415 3.016772747039795\n",
      "416 3.3050501346588135\n",
      "417 3.029067277908325\n",
      "418 3.011690616607666\n",
      "419 2.7237045764923096\n",
      "420 3.4463019371032715\n",
      "421 3.3184149265289307\n",
      "422 3.1724929809570312\n",
      "423 3.0127785205841064\n",
      "424 2.886564016342163\n",
      "425 2.939847707748413\n",
      "426 3.052569627761841\n",
      "427 3.248579978942871\n",
      "428 2.9346606731414795\n",
      "429 2.5743422508239746\n",
      "430 3.106977939605713\n",
      "431 3.4171581268310547\n",
      "432 3.2080295085906982\n",
      "433 3.242588520050049\n",
      "434 2.8427512645721436\n",
      "435 3.1616110801696777\n",
      "436 2.951169013977051\n",
      "437 2.936762809753418\n",
      "438 2.849825859069824\n",
      "439 3.1568443775177\n",
      "440 2.8099918365478516\n",
      "441 3.0159618854522705\n",
      "442 2.838465690612793\n",
      "443 3.377303123474121\n",
      "444 3.101304292678833\n",
      "445 2.871950149536133\n",
      "446 3.3277900218963623\n",
      "447 2.857112169265747\n",
      "448 2.9020278453826904\n",
      "449 3.0854849815368652\n",
      "450 2.682969093322754\n",
      "451 2.7849385738372803\n",
      "452 2.716531991958618\n",
      "453 2.626978874206543\n",
      "454 3.179243803024292\n",
      "455 2.895876169204712\n",
      "456 2.9124386310577393\n",
      "457 2.9739105701446533\n",
      "458 2.8705642223358154\n",
      "459 3.3647356033325195\n",
      "460 2.8041329383850098\n",
      "461 2.5842342376708984\n",
      "462 3.3136146068573\n",
      "463 3.042065382003784\n",
      "464 3.096400260925293\n",
      "465 2.799283742904663\n",
      "466 3.2284717559814453\n",
      "467 3.0316531658172607\n",
      "468 2.9011003971099854\n",
      "469 2.9209046363830566\n",
      "470 3.1465821266174316\n",
      "471 3.1194159984588623\n",
      "472 2.871177911758423\n",
      "473 2.531860828399658\n",
      "474 3.0087201595306396\n",
      "475 2.79171085357666\n",
      "476 2.8386056423187256\n",
      "477 2.641580820083618\n",
      "478 2.927302360534668\n",
      "479 2.855419397354126\n",
      "480 2.6351330280303955\n",
      "481 3.033492088317871\n",
      "482 3.0248355865478516\n",
      "483 3.1124887466430664\n",
      "484 2.8148183822631836\n",
      "485 3.097384452819824\n",
      "486 3.2367563247680664\n",
      "487 2.769571542739868\n",
      "488 2.8391318321228027\n",
      "489 3.1347174644470215\n",
      "490 2.884650230407715\n",
      "491 2.88278865814209\n",
      "492 2.509247064590454\n",
      "493 2.9408464431762695\n"
     ]
    },
    {
     "name": "stdout",
     "output_type": "stream",
     "text": [
      "494 3.1933352947235107\n",
      "495 2.7468318939208984\n",
      "496 2.9226512908935547\n",
      "497 3.0153162479400635\n",
      "498 2.859898567199707\n",
      "499 3.336668014526367\n",
      "500 2.7295901775360107\n",
      "501 3.031684637069702\n",
      "502 2.84584903717041\n",
      "503 2.6887688636779785\n",
      "504 2.927467107772827\n",
      "505 2.7435555458068848\n",
      "506 3.104051113128662\n",
      "507 3.1916801929473877\n",
      "508 3.513601303100586\n",
      "509 3.129916191101074\n",
      "510 2.8756232261657715\n",
      "511 2.7994253635406494\n",
      "512 2.877667188644409\n",
      "513 3.240535020828247\n",
      "514 3.0776073932647705\n",
      "515 2.816845417022705\n",
      "516 2.730797529220581\n",
      "517 2.9802627563476562\n",
      "518 3.3006744384765625\n",
      "519 3.2470412254333496\n",
      "520 2.820958137512207\n",
      "521 2.747032403945923\n",
      "522 2.555624008178711\n",
      "523 3.2605175971984863\n",
      "524 2.678046226501465\n",
      "525 2.676020622253418\n",
      "526 3.073848247528076\n",
      "527 2.5317652225494385\n",
      "528 2.7408368587493896\n",
      "529 2.618396520614624\n",
      "530 2.985901117324829\n",
      "531 3.0740015506744385\n",
      "532 2.996716260910034\n",
      "533 2.8205208778381348\n",
      "534 2.9212446212768555\n",
      "535 2.846717119216919\n",
      "536 2.876976251602173\n",
      "537 2.726938486099243\n",
      "538 2.7417540550231934\n",
      "539 2.6049964427948\n",
      "540 2.614949941635132\n",
      "541 3.3234777450561523\n",
      "542 2.8260138034820557\n",
      "543 2.403777599334717\n",
      "544 2.788283348083496\n",
      "545 2.712087392807007\n",
      "546 2.814548969268799\n",
      "547 2.7859346866607666\n",
      "548 2.9374396800994873\n",
      "549 3.035418748855591\n",
      "550 2.723221778869629\n",
      "551 2.9233570098876953\n",
      "552 2.7647712230682373\n",
      "553 2.665126085281372\n",
      "554 3.073772668838501\n",
      "555 2.6682381629943848\n",
      "556 2.6627590656280518\n",
      "557 2.7897913455963135\n",
      "558 3.0771634578704834\n",
      "559 2.512336254119873\n",
      "560 2.6007535457611084\n",
      "561 2.8971920013427734\n",
      "562 2.738615036010742\n",
      "563 2.9287760257720947\n",
      "564 3.240879535675049\n",
      "565 2.8067257404327393\n",
      "566 2.7405846118927\n",
      "567 2.913748264312744\n",
      "568 2.6427371501922607\n",
      "569 2.6721367835998535\n",
      "570 3.4880576133728027\n",
      "571 2.5264909267425537\n",
      "572 2.6248538494110107\n",
      "573 2.558178663253784\n",
      "574 2.9947848320007324\n",
      "575 2.6986637115478516\n",
      "576 2.903106451034546\n",
      "577 2.5004403591156006\n",
      "578 2.649745464324951\n",
      "579 2.363689661026001\n",
      "580 2.7128336429595947\n",
      "581 2.2991743087768555\n",
      "582 2.820969581604004\n",
      "583 2.7157106399536133\n",
      "584 2.535468578338623\n",
      "585 2.9442620277404785\n",
      "586 2.5118751525878906\n",
      "587 2.89167857170105\n",
      "588 2.8522937297821045\n",
      "589 2.6620659828186035\n",
      "590 2.845562696456909\n",
      "591 2.7768187522888184\n",
      "592 2.5184409618377686\n",
      "593 2.590816020965576\n",
      "594 2.3059089183807373\n",
      "595 3.1122655868530273\n",
      "596 2.8455941677093506\n",
      "597 2.6162967681884766\n",
      "598 2.745002508163452\n",
      "599 2.650402784347534\n",
      "600 2.7565805912017822\n",
      "601 2.4232866764068604\n",
      "602 2.9009366035461426\n",
      "603 2.7065727710723877\n",
      "604 2.5704946517944336\n",
      "605 2.6577484607696533\n",
      "606 2.6340487003326416\n",
      "607 2.6697354316711426\n",
      "608 2.6746063232421875\n",
      "609 3.0211148262023926\n",
      "610 2.835686445236206\n",
      "611 2.5895955562591553\n",
      "612 2.758596181869507\n",
      "613 3.0829923152923584\n",
      "614 2.5323915481567383\n",
      "615 2.5471975803375244\n",
      "616 2.8907177448272705\n",
      "617 2.9525842666625977\n",
      "618 2.5926547050476074\n",
      "619 2.480408191680908\n",
      "620 2.8245058059692383\n",
      "621 2.6645047664642334\n",
      "622 2.665343999862671\n",
      "623 2.7024450302124023\n",
      "624 2.720757246017456\n",
      "625 2.672031879425049\n",
      "626 2.4835073947906494\n",
      "627 2.601085901260376\n",
      "628 2.6662228107452393\n",
      "629 2.4831669330596924\n",
      "630 2.7737820148468018\n",
      "631 2.9390509128570557\n",
      "632 2.701572895050049\n",
      "633 2.4569597244262695\n",
      "634 2.403920888900757\n",
      "635 2.6170990467071533\n",
      "636 2.4895942211151123\n",
      "637 2.549048662185669\n",
      "638 2.757472515106201\n",
      "639 2.680555820465088\n",
      "640 2.6536080837249756\n",
      "641 2.5973336696624756\n",
      "642 2.832667350769043\n",
      "643 2.498863935470581\n",
      "644 2.7893338203430176\n",
      "645 2.4544386863708496\n",
      "646 2.559133291244507\n",
      "647 2.9234085083007812\n",
      "648 2.736577033996582\n",
      "649 2.251113176345825\n",
      "650 2.670900583267212\n",
      "651 2.3567841053009033\n",
      "652 2.564117193222046\n",
      "653 2.264897584915161\n",
      "654 2.559751510620117\n",
      "655 2.673827886581421\n",
      "656 2.292161464691162\n",
      "657 2.571852684020996\n",
      "658 2.7617361545562744\n",
      "659 2.364518404006958\n",
      "660 2.735158681869507\n",
      "661 2.590710401535034\n",
      "662 2.4342379570007324\n",
      "663 2.440598487854004\n",
      "664 2.3544981479644775\n",
      "665 2.769541025161743\n",
      "666 2.8339481353759766\n",
      "667 2.6644134521484375\n",
      "668 2.7613582611083984\n",
      "669 2.6410303115844727\n",
      "670 2.6674463748931885\n",
      "671 2.674595355987549\n",
      "672 2.6705451011657715\n",
      "673 2.4372477531433105\n",
      "674 2.572359323501587\n",
      "675 2.4336018562316895\n",
      "676 2.582076072692871\n",
      "677 2.334831476211548\n",
      "678 2.4661707878112793\n",
      "679 3.087738275527954\n",
      "680 2.5004940032958984\n",
      "681 2.759713649749756\n",
      "682 2.355797529220581\n",
      "683 2.49163556098938\n",
      "684 2.5693764686584473\n",
      "685 2.249296188354492\n",
      "686 2.3153324127197266\n",
      "687 2.546678304672241\n",
      "688 2.2623655796051025\n",
      "689 2.8535828590393066\n",
      "690 2.559159517288208\n",
      "691 2.5310723781585693\n",
      "692 2.3598461151123047\n",
      "693 2.6053247451782227\n",
      "694 2.687445640563965\n",
      "695 2.8956713676452637\n",
      "696 2.6994128227233887\n",
      "697 2.2729527950286865\n",
      "698 2.5656065940856934\n",
      "699 2.510023832321167\n",
      "700 2.3671715259552\n",
      "701 2.745865821838379\n",
      "702 2.6480321884155273\n",
      "703 2.836297035217285\n",
      "704 2.529162883758545\n",
      "705 2.6845874786376953\n",
      "706 2.5189952850341797\n",
      "707 2.4691638946533203\n",
      "708 2.3592615127563477\n",
      "709 2.4480881690979004\n",
      "710 2.3399574756622314\n",
      "711 2.4960222244262695\n",
      "712 2.574857234954834\n",
      "713 2.412202835083008\n",
      "714 2.481685161590576\n",
      "715 2.500185966491699\n",
      "716 2.586163282394409\n",
      "717 2.2225706577301025\n",
      "718 2.5944626331329346\n",
      "719 2.504021644592285\n",
      "720 2.490974187850952\n",
      "721 2.387733221054077\n",
      "722 2.780787944793701\n",
      "723 2.2893261909484863\n",
      "724 2.5007925033569336\n",
      "725 2.4066121578216553\n",
      "726 2.767803430557251\n",
      "727 2.5942392349243164\n",
      "728 2.657623291015625\n",
      "729 2.3622217178344727\n",
      "730 2.41983699798584\n",
      "731 2.3889951705932617\n",
      "732 2.716045618057251\n",
      "733 2.751699447631836\n",
      "734 2.437103509902954\n",
      "735 2.4156675338745117\n",
      "736 2.3869757652282715\n",
      "737 2.738584280014038\n",
      "738 2.3413617610931396\n",
      "739 2.407881259918213\n",
      "740 2.8940236568450928\n",
      "741 2.8026275634765625\n",
      "742 2.6444618701934814\n",
      "743 2.819272041320801\n",
      "744 2.611668586730957\n",
      "745 2.3845865726470947\n",
      "746 2.5417404174804688\n",
      "747 2.5963504314422607\n",
      "748 2.7782092094421387\n",
      "749 2.413127899169922\n",
      "750 2.7632384300231934\n",
      "751 2.476078510284424\n",
      "752 2.477196216583252\n",
      "753 2.724397659301758\n",
      "754 2.559480905532837\n",
      "755 2.361851215362549\n",
      "756 2.5869808197021484\n",
      "757 2.59492826461792\n",
      "758 2.329162359237671\n",
      "759 2.6375534534454346\n",
      "760 2.5177578926086426\n",
      "761 2.6627614498138428\n",
      "762 2.687087297439575\n",
      "763 2.7693634033203125\n",
      "764 2.649894952774048\n",
      "765 2.596475124359131\n",
      "766 2.5193047523498535\n",
      "767 3.045938730239868\n",
      "768 2.8875904083251953\n",
      "769 3.0489301681518555\n",
      "770 2.679150104522705\n",
      "771 2.4483323097229004\n",
      "772 2.5730721950531006\n",
      "773 2.0993363857269287\n",
      "774 2.719547748565674\n",
      "775 2.4447402954101562\n",
      "776 2.40702486038208\n",
      "777 2.468503475189209\n",
      "778 2.342535972595215\n",
      "779 2.767925500869751\n",
      "780 2.6158628463745117\n",
      "781 2.7916126251220703\n",
      "782 3.1050186157226562\n",
      "783 3.1869406700134277\n",
      "784 2.760092258453369\n",
      "785 2.6911978721618652\n",
      "786 3.2514705657958984\n",
      "787 3.2245776653289795\n",
      "788 3.1664609909057617\n",
      "789 2.848586320877075\n",
      "790 3.0360288619995117\n",
      "791 2.988240957260132\n",
      "792 2.3216307163238525\n",
      "793 2.512371778488159\n",
      "794 2.7986621856689453\n",
      "795 2.71701717376709\n",
      "796 2.754392623901367\n",
      "797 2.611293315887451\n",
      "798 3.347038984298706\n",
      "799 3.7424614429473877\n",
      "800 3.965380907058716\n",
      "801 3.240339756011963\n",
      "802 2.49324893951416\n",
      "803 2.6253156661987305\n",
      "804 2.5425539016723633\n",
      "805 2.819195508956909\n",
      "806 3.2563467025756836\n",
      "807 2.7215421199798584\n",
      "808 2.7047348022460938\n",
      "809 2.7998130321502686\n",
      "810 3.1196155548095703\n",
      "811 3.2631609439849854\n",
      "812 2.923255205154419\n",
      "813 2.781526803970337\n",
      "814 3.0198442935943604\n",
      "815 2.78134822845459\n",
      "816 3.2525899410247803\n",
      "817 2.654038667678833\n",
      "818 2.3957724571228027\n",
      "819 3.0528969764709473\n",
      "820 2.8255884647369385\n",
      "821 2.944589853286743\n",
      "822 3.1682240962982178\n",
      "823 3.6291165351867676\n",
      "824 3.3394460678100586\n",
      "825 2.752258062362671\n",
      "826 2.52946400642395\n",
      "827 2.8617124557495117\n",
      "828 3.214823007583618\n",
      "829 4.326878070831299\n",
      "830 4.257416248321533\n",
      "831 3.6687440872192383\n",
      "832 3.5259954929351807\n",
      "833 2.891230821609497\n",
      "834 3.0920166969299316\n",
      "835 3.0535171031951904\n",
      "836 2.7574472427368164\n",
      "837 3.2222347259521484\n",
      "838 3.08859920501709\n",
      "839 2.883498191833496\n",
      "840 3.071836471557617\n",
      "841 3.258288621902466\n",
      "842 3.1448240280151367\n",
      "843 2.849135160446167\n",
      "844 2.875821828842163\n",
      "845 2.620537519454956\n",
      "846 2.587289810180664\n",
      "847 2.8153510093688965\n",
      "848 2.8023955821990967\n",
      "849 3.3931589126586914\n",
      "850 3.12894868850708\n",
      "851 3.2170450687408447\n",
      "852 3.4116530418395996\n",
      "853 3.5422627925872803\n",
      "854 2.806253433227539\n",
      "855 2.819016218185425\n",
      "856 3.4202044010162354\n",
      "857 2.8970203399658203\n",
      "858 3.545816421508789\n",
      "859 3.404819965362549\n",
      "860 3.6059927940368652\n",
      "861 3.305293321609497\n",
      "862 3.49141001701355\n",
      "863 2.6591756343841553\n",
      "864 3.462942123413086\n",
      "865 3.3263139724731445\n",
      "866 4.21729850769043\n",
      "867 3.863725185394287\n",
      "868 3.583158016204834\n",
      "869 3.8114373683929443\n",
      "870 3.706050157546997\n",
      "871 2.911006450653076\n",
      "872 2.5158464908599854\n",
      "873 2.7016191482543945\n",
      "874 3.131344795227051\n",
      "875 3.563833236694336\n",
      "876 4.180034637451172\n",
      "877 4.72631311416626\n",
      "878 4.906597137451172\n",
      "879 5.539633274078369\n",
      "880 6.615565299987793\n",
      "881 4.5362467765808105\n",
      "882 4.03631591796875\n",
      "883 3.824136734008789\n",
      "884 3.2401089668273926\n",
      "885 3.639608383178711\n",
      "886 3.194549322128296\n",
      "887 3.6695022583007812\n",
      "888 3.60801362991333\n",
      "889 3.549414873123169\n",
      "890 3.07747745513916\n",
      "891 3.257195234298706\n",
      "892 3.5825448036193848\n",
      "893 4.327417373657227\n",
      "894 4.185138702392578\n",
      "895 4.880965709686279\n",
      "896 3.3989651203155518\n",
      "897 4.741781234741211\n",
      "898 3.617293119430542\n",
      "899 3.1602208614349365\n",
      "900 2.9886252880096436\n",
      "901 2.938595771789551\n",
      "902 3.059964895248413\n",
      "903 3.5525062084198\n",
      "904 3.5252859592437744\n",
      "905 4.051606178283691\n",
      "906 4.129072189331055\n",
      "907 3.901768207550049\n",
      "908 4.752541542053223\n",
      "909 3.62876558303833\n",
      "910 4.208643913269043\n",
      "911 4.6051225662231445\n",
      "912 3.895486831665039\n",
      "913 4.605530261993408\n",
      "914 4.79355001449585\n",
      "915 4.07826042175293\n",
      "916 4.484608173370361\n",
      "917 4.7985711097717285\n",
      "918 5.160459995269775\n",
      "919 5.349716663360596\n",
      "920 3.78007173538208\n",
      "921 3.04647159576416\n",
      "922 3.167633295059204\n",
      "923 4.8660969734191895\n",
      "924 5.574991226196289\n",
      "925 5.4619317054748535\n",
      "926 3.5715887546539307\n",
      "927 4.5064191818237305\n",
      "928 4.223711967468262\n",
      "929 4.155676364898682\n",
      "930 5.2802863121032715\n",
      "931 3.138657569885254\n",
      "932 2.7727105617523193\n",
      "933 4.792514801025391\n",
      "934 4.4842753410339355\n",
      "935 3.4966845512390137\n",
      "936 3.1629583835601807\n",
      "937 3.7463791370391846\n",
      "938 4.403608322143555\n",
      "939 4.962672710418701\n",
      "940 5.318442344665527\n",
      "941 4.097020626068115\n",
      "942 4.8520894050598145\n",
      "943 3.574141263961792\n",
      "944 3.596238613128662\n",
      "945 3.535491943359375\n",
      "946 3.6507723331451416\n",
      "947 3.277575969696045\n",
      "948 3.6989941596984863\n",
      "949 3.344627618789673\n",
      "950 4.286644458770752\n",
      "951 4.406871318817139\n",
      "952 4.119805812835693\n",
      "953 3.7714834213256836\n",
      "954 3.7741849422454834\n",
      "955 5.307132720947266\n",
      "956 5.185485363006592\n",
      "957 4.261476039886475\n",
      "958 4.493495941162109\n",
      "959 4.473160266876221\n",
      "960 3.0374245643615723\n",
      "961 3.512768030166626\n",
      "962 5.319643020629883\n",
      "963 5.257077217102051\n",
      "964 4.468024730682373\n",
      "965 3.6207916736602783\n",
      "966 4.011209964752197\n",
      "967 4.142065525054932\n",
      "968 4.39404296875\n",
      "969 3.7196593284606934\n",
      "970 3.940762519836426\n",
      "971 6.055363178253174\n",
      "972 5.377974033355713\n",
      "973 5.382023811340332\n",
      "974 4.985818862915039\n",
      "975 4.130491256713867\n",
      "976 5.718992233276367\n",
      "977 4.313296318054199\n",
      "978 4.078452110290527\n",
      "979 4.060235500335693\n",
      "980 5.334130764007568\n",
      "981 4.4522600173950195\n",
      "982 5.081424713134766\n",
      "983 4.791107654571533\n",
      "984 4.170215606689453\n",
      "985 4.704042911529541\n",
      "986 4.238864421844482\n",
      "987 4.1598005294799805\n",
      "988 3.4959847927093506\n",
      "989 3.15202260017395\n",
      "990 3.597212553024292\n",
      "991 5.206648349761963\n",
      "992 4.701391696929932\n",
      "993 4.193249702453613\n",
      "994 3.714092969894409\n",
      "995 6.104539394378662\n",
      "996 5.5565266609191895\n",
      "997 4.192651271820068\n"
     ]
    },
    {
     "name": "stdout",
     "output_type": "stream",
     "text": [
      "998 5.144352912902832\n",
      "999 5.059321880340576\n"
     ]
    }
   ],
   "source": [
    "for p in parameters:\n",
    "    p.requires_grad = True\n",
    "    \n",
    "lri=[]\n",
    "lriex=[]\n",
    "lossi=[]\n",
    "    \n",
    "\n",
    "for i in range(1000):\n",
    "    \n",
    "    # mini batch construct\n",
    "    ix=torch.randint(0,X.shape[0],(100,))\n",
    "    # now we learn...forward bass -- = 73643\n",
    "    emb=C[X[ix]] # torch.Size([--, 3, 2])\n",
    "    h=torch.tanh(emb.view(-1,6) @ W1 + b1) #(--,100)\n",
    "    logits= h @ W2 + b2 #(--,27)\n",
    "    loss=F.cross_entropy(logits,Y[ix])\n",
    "    print(i,loss.item())\n",
    "    # backward pass \n",
    "    for p in parameters:\n",
    "        p.grad=None\n",
    "    loss.backward()\n",
    "    #update\n",
    "    lr=lrs[i]\n",
    "    # lr= .01\n",
    "    for p in parameters:\n",
    "        p.data += -lr*p.grad\n",
    "#print(loss.item())\n",
    "\n",
    "#track stats\n",
    "    lri.append(lr)\n",
    "    lriex.append(lre[i])\n",
    "    lossi.append(loss.item())"
   ]
  },
  {
   "cell_type": "code",
   "execution_count": 228,
   "id": "991439c6",
   "metadata": {},
   "outputs": [
    {
     "data": {
      "text/plain": [
       "[<matplotlib.lines.Line2D at 0x7fccb15e9eb0>]"
      ]
     },
     "execution_count": 228,
     "metadata": {},
     "output_type": "execute_result"
    },
    {
     "data": {
      "image/png": "[encoded data removed]",
      "text/plain": [
       "<Figure size 432x288 with 1 Axes>"
      ]
     },
     "metadata": {
      "needs_background": "light"
     },
     "output_type": "display_data"
    }
   ],
   "source": [
    "plt.plot(lri,lossi)  # discuss......"
   ]
  },
  {
   "cell_type": "code",
   "execution_count": 229,
   "id": "a63b8db7",
   "metadata": {},
   "outputs": [
    {
     "data": {
      "text/plain": [
       "[<matplotlib.lines.Line2D at 0x7fccb21516a0>]"
      ]
     },
     "execution_count": 229,
     "metadata": {},
     "output_type": "execute_result"
    },
    {
     "data": {
      "image/png": "[encoded data removed]",
      "text/plain": [
       "<Figure size 432x288 with 1 Axes>"
      ]
     },
     "metadata": {
      "needs_background": "light"
     },
     "output_type": "display_data"
    }
   ],
   "source": [
    "plt.plot(lriex,lossi)  # discuss......"
   ]
  },
  {
   "cell_type": "code",
   "execution_count": 230,
   "id": "595916e7",
   "metadata": {},
   "outputs": [
    {
     "data": {
      "text/plain": [
       "tensor(5.9779, grad_fn=<NllLossBackward0>)"
      ]
     },
     "execution_count": 230,
     "metadata": {},
     "output_type": "execute_result"
    }
   ],
   "source": [
    "# we can do already much better than bigram....almost...remember overfitting.... \n",
    "\n",
    "emb=C[X] # torch.Size([41, 3, 2])\n",
    "h=torch.tanh(emb.view(-1,6) @ W1 + b1) #(41,100)\n",
    "logits= h @ W2 + b2 #(41,27)\n",
    "loss=F.cross_entropy(logits,Y)\n",
    "loss"
   ]
  },
  {
   "cell_type": "code",
   "execution_count": 231,
   "id": "28d52c0b",
   "metadata": {},
   "outputs": [],
   "source": [
    "# training split, dev/validation split (for hypermarameters !!), test split\n",
    "# 80%, 10%, 10%\n",
    "# be careful with the test eugene.....\n",
    "\n",
    "def build_dataset(words):\n",
    "    block_size =3 #context length: how many characters do we take to predict the next one ... change it !!\n",
    "    X,Y = [],[]  # input & label\n",
    "\n",
    "   \n",
    "    for w in words:\n",
    "        context=[0]*block_size\n",
    "        for ch in w +'.':\n",
    "            ix=stoi[ch]\n",
    "            X.append(context)\n",
    "            Y.append(ix)\n",
    "      #  print(''.join(itos[i] for i in context), '--->', itos[ix])\n",
    "            context=context[1:]+[ix]  # shift: crop and append\n",
    "    X=torch.tensor(X)\n",
    "    Y=torch.tensor(Y)\n",
    "    print(X.shape,Y.shape)\n",
    "    return X,Y\n",
    "\n",
    "\n",
    "\n",
    "    "
   ]
  },
  {
   "cell_type": "code",
   "execution_count": 232,
   "id": "e3b5ea38",
   "metadata": {},
   "outputs": [
    {
     "name": "stdout",
     "output_type": "stream",
     "text": [
      "torch.Size([58867, 3]) torch.Size([58867])\n",
      "torch.Size([7404, 3]) torch.Size([7404])\n",
      "torch.Size([7372, 3]) torch.Size([7372])\n"
     ]
    }
   ],
   "source": [
    "import random\n",
    "random.seed(42)\n",
    "random.shuffle(words)\n",
    "n1=int(0.8*len(words))\n",
    "n2=int(0.9*len(words))\n",
    "\n",
    "Xtr,Ytr = build_dataset(words[:n1])\n",
    "Xdev,Ydev = build_dataset(words[n1:n2])\n",
    "Xte, Yte = build_dataset(words[n2:])\n",
    "\n"
   ]
  },
  {
   "cell_type": "code",
   "execution_count": 233,
   "id": "e7f180a2",
   "metadata": {},
   "outputs": [],
   "source": [
    "# and we do it again with the new datasets.......\n",
    "Xtr.shape, Ytr.shape\n",
    "\n",
    "# exactly as before....\n",
    "g=torch.Generator().manual_seed(123456780)# for reproducibility\n",
    "C=torch.randn((28,2), generator=g)\n",
    "W1=torch.randn((6,100), generator=g)\n",
    "b1=torch.randn(100, generator=g)\n",
    "W2=torch.randn((100,28), generator=g)\n",
    "b2=torch.randn(28, generator=g)\n",
    "parameters=[C,W1,b1,W2,b2]"
   ]
  },
  {
   "cell_type": "code",
   "execution_count": 234,
   "id": "2ef6a3bb",
   "metadata": {},
   "outputs": [],
   "source": [
    "for p in parameters:\n",
    "    p.requires_grad = True\n",
    "    \n",
    "    \n",
    "lre=torch.linspace(-3,0,1000)\n",
    "lrs= 10**lre\n"
   ]
  },
  {
   "cell_type": "code",
   "execution_count": 235,
   "id": "5e1035ff",
   "metadata": {},
   "outputs": [
    {
     "name": "stdout",
     "output_type": "stream",
     "text": [
      "1.9719079732894897\n"
     ]
    }
   ],
   "source": [
    "# now we train only on Xtr\n",
    "\n",
    "lri=[]\n",
    "lriex=[]\n",
    "lossi=[]\n",
    "    \n",
    "\n",
    "for i in range(10000):\n",
    "    \n",
    "    # mini batch construct\n",
    "    ix=torch.randint(0,Xtr.shape[0],(40,))\n",
    "    # now we learn...forward bass -- = 73643\n",
    "    emb=C[Xtr[ix]] # torch.Size([--, 3, 2])\n",
    "    h=torch.tanh(emb.view(-1,6) @ W1 + b1) #(--,100)\n",
    "    logits= h @ W2 + b2 #(--,27)\n",
    "    loss=F.cross_entropy(logits,Ytr[ix])\n",
    "   # print(i,loss.item())\n",
    "    # backward pass \n",
    "    for p in parameters:\n",
    "        p.grad=None\n",
    "    loss.backward()\n",
    "    #update\n",
    "    #lr=lrs[i]\n",
    "    lr= .1\n",
    "    for p in parameters:\n",
    "        p.data += -lr*p.grad\n",
    "print(loss.item())\n",
    "\n",
    "#track stats\n",
    "#    lri.append(lr)\n",
    "#    lriex.append(lre[i])\n",
    "#    lossi.append(loss.item())"
   ]
  },
  {
   "cell_type": "code",
   "execution_count": 236,
   "id": "49673949",
   "metadata": {},
   "outputs": [
    {
     "data": {
      "text/plain": [
       "tensor(2.3274, grad_fn=<NllLossBackward0>)"
      ]
     },
     "execution_count": 236,
     "metadata": {},
     "output_type": "execute_result"
    }
   ],
   "source": [
    "# now we evaluate on Xdev\n",
    "emb=C[Xdev]\n",
    "h=torch.tanh(emb.view(-1,6) @ W1 + b1) #(--,100)\n",
    "logits= h @ W2 + b2 #(--,27)\n",
    "loss=F.cross_entropy(logits,Ydev)\n",
    "loss"
   ]
  },
  {
   "cell_type": "code",
   "execution_count": 237,
   "id": "89f0012e",
   "metadata": {},
   "outputs": [
    {
     "data": {
      "text/plain": [
       "tensor(2.3201, grad_fn=<NllLossBackward0>)"
      ]
     },
     "execution_count": 237,
     "metadata": {},
     "output_type": "execute_result"
    }
   ],
   "source": [
    "# now we evaluate on Xtr..... we are NOT overfitting\n",
    "emb=C[Xtr]\n",
    "h=torch.tanh(emb.view(-1,6) @ W1 + b1) #(--,100)\n",
    "logits= h @ W2 + b2 #(--,27)\n",
    "loss=F.cross_entropy(logits,Ytr)\n",
    "loss"
   ]
  },
  {
   "cell_type": "code",
   "execution_count": 238,
   "id": "6664ab75",
   "metadata": {},
   "outputs": [],
   "source": [
    "# now we cahnge the hyper parameters....\n",
    "# before....\n",
    "#g=torch.Generator().manual_seed(123456780)# for reproducibility\n",
    "#C=torch.randn((28,2), generator=g)\n",
    "#W1=torch.randn((6,100), generator=g)\n",
    "#b1=torch.randn(100, generator=g)\n",
    "#W2=torch.randn((100,28), generator=g)\n",
    "#b2=torch.randn(28, generator=g)\n",
    "#parameters=[C,W1,b1,W2,b2]\n",
    "\n",
    "g=torch.Generator().manual_seed(123456780)# for reproducibility\n",
    "C=torch.randn((28,2), generator=g)\n",
    "W1=torch.randn((6,300), generator=g)\n",
    "b1=torch.randn(300, generator=g)\n",
    "W2=torch.randn((300,28), generator=g)\n",
    "b2=torch.randn(28, generator=g)\n",
    "parameters=[C,W1,b1,W2,b2]"
   ]
  },
  {
   "cell_type": "code",
   "execution_count": 239,
   "id": "dd0f0073",
   "metadata": {},
   "outputs": [
    {
     "data": {
      "text/plain": [
       "10584"
      ]
     },
     "execution_count": 239,
     "metadata": {},
     "output_type": "execute_result"
    }
   ],
   "source": [
    "sum(p.nelement() for p in parameters)# number of parameter in total... before 3584"
   ]
  },
  {
   "cell_type": "code",
   "execution_count": 240,
   "id": "10ee3bb8",
   "metadata": {},
   "outputs": [],
   "source": [
    "lri=[]\n",
    "lriex=[]\n",
    "lossi=[]\n",
    "stepi=[]\n",
    "for p in parameters:\n",
    "    p.requires_grad = True\n",
    "\n",
    "for i in range(10000):\n",
    "    \n",
    "    # mini batch construct\n",
    "    ix=torch.randint(0,Xtr.shape[0],(40,))\n",
    "    # now we learn...forward bass -- = 73643\n",
    "    emb=C[Xtr[ix]] # torch.Size([--, 3, 2])\n",
    "    h=torch.tanh(emb.view(-1,6) @ W1 + b1) #(--,100)\n",
    "    logits= h @ W2 + b2 #(--,27)\n",
    "    loss=F.cross_entropy(logits,Ytr[ix])\n",
    "   # print(i,loss.item())\n",
    "    # backward pass \n",
    "    for p in parameters:\n",
    "        p.grad=None\n",
    "    loss.backward()\n",
    "    #update\n",
    "    #lr=lrs[i]\n",
    "    lr= .1\n",
    "    for p in parameters:\n",
    "        p.data += -lr*p.grad\n",
    "    stepi.append(i)\n",
    "    lossi.append(loss.item())"
   ]
  },
  {
   "cell_type": "code",
   "execution_count": 111,
   "id": "8792910e",
   "metadata": {},
   "outputs": [
    {
     "data": {
      "text/plain": [
       "[<matplotlib.lines.Line2D at 0x7fd9a2713b20>]"
      ]
     },
     "execution_count": 111,
     "metadata": {},
     "output_type": "execute_result"
    },
    {
     "data": {
      "image/png": "[encoded data removed]",
      "text/plain": [
       "<Figure size 432x288 with 1 Axes>"
      ]
     },
     "metadata": {
      "needs_background": "light"
     },
     "output_type": "display_data"
    }
   ],
   "source": [
    "plt.plot(stepi,lossi)"
   ]
  },
  {
   "cell_type": "code",
   "execution_count": 112,
   "id": "a4b9d70c",
   "metadata": {},
   "outputs": [],
   "source": [
    "# Exercise with different hypermarameters and learning rate.....describe and discuss results...."
   ]
  },
  {
   "cell_type": "code",
   "execution_count": 113,
   "id": "bfb30813",
   "metadata": {},
   "outputs": [
    {
     "data": {
      "image/png": "[encoded data removed]",
      "text/plain": [
       "<Figure size 576x576 with 1 Axes>"
      ]
     },
     "metadata": {
      "needs_background": "light"
     },
     "output_type": "display_data"
    }
   ],
   "source": [
    "#visualizing the embedding.....\n",
    "\n",
    "plt.figure(figsize=(8,8))\n",
    "plt.scatter(C[:,0].data, C[:,1].data, s=200)\n",
    "for i in range(C.shape[0]):\n",
    "    plt.text(C[i,0].item(), C[i,1].item(),itos[i], ha=\"center\",va=\"center\", color=\"white\")\n",
    "    plt.grid('minor')"
   ]
  },
  {
   "cell_type": "code",
   "execution_count": 114,
   "id": "89362b2e",
   "metadata": {},
   "outputs": [],
   "source": [
    "# we scale up the embedding dimension and see what happen\n",
    "\n",
    "\n",
    "g=torch.Generator().manual_seed(123456780)# for reproducibility\n",
    "C=torch.randn((28,10), generator=g)\n",
    "W1=torch.randn((30,200), generator=g)\n",
    "b1=torch.randn(200, generator=g)\n",
    "W2=torch.randn((200,28), generator=g)\n",
    "b2=torch.randn(28, generator=g)\n",
    "parameters=[C,W1,b1,W2,b2]"
   ]
  },
  {
   "cell_type": "code",
   "execution_count": 115,
   "id": "b5a009ec",
   "metadata": {},
   "outputs": [
    {
     "data": {
      "text/plain": [
       "12108"
      ]
     },
     "execution_count": 115,
     "metadata": {},
     "output_type": "execute_result"
    }
   ],
   "source": [
    "sum(p.nelement() for p in parameters)# number of parameter in total"
   ]
  },
  {
   "cell_type": "code",
   "execution_count": 116,
   "id": "0ebcf936",
   "metadata": {},
   "outputs": [],
   "source": [
    "lri=[]\n",
    "lriex=[]\n",
    "lossi=[]\n",
    "stepi=[]\n",
    "\n",
    "for p in parameters:\n",
    "    p.requires_grad = True"
   ]
  },
  {
   "cell_type": "code",
   "execution_count": 117,
   "id": "e8174994",
   "metadata": {},
   "outputs": [],
   "source": [
    "# do lr =0.1 and then 0.01 and look at the performance....\n",
    "\n",
    "\n",
    "for i in range(200000):\n",
    "    \n",
    "    # mini batch construct\n",
    "    ix=torch.randint(0,Xtr.shape[0],(40,))\n",
    "    # now we learn...forward bass -- = 73643\n",
    "    emb=C[Xtr[ix]] # torch.Size([--, 3, 2])\n",
    "    h=torch.tanh(emb.view(-1,30) @ W1 + b1) #(--,100)\n",
    "    logits= h @ W2 + b2 #(--,27)\n",
    "    loss=F.cross_entropy(logits,Ytr[ix])\n",
    "   # print(i,loss.item())\n",
    "    # backward pass \n",
    "    for p in parameters:\n",
    "        p.grad=None\n",
    "    loss.backward()\n",
    "    #update\n",
    "    #lr=lrs[i]\n",
    "    lr= .1 if i < 100000 else 0.01\n",
    "    for p in parameters:\n",
    "        p.data += -lr*p.grad\n",
    "    stepi.append(i)\n",
    "    lossi.append(loss.log10().item()) # note the log10 !!"
   ]
  },
  {
   "cell_type": "code",
   "execution_count": 118,
   "id": "c615c76a",
   "metadata": {},
   "outputs": [
    {
     "data": {
      "text/plain": [
       "[<matplotlib.lines.Line2D at 0x7fd9a43c1490>]"
      ]
     },
     "execution_count": 118,
     "metadata": {},
     "output_type": "execute_result"
    },
    {
     "data": {
      "image/png": "[encoded data removed]",
      "text/plain": [
       "<Figure size 432x288 with 1 Axes>"
      ]
     },
     "metadata": {
      "needs_background": "light"
     },
     "output_type": "display_data"
    }
   ],
   "source": [
    "plt.plot(stepi,lossi)"
   ]
  },
  {
   "cell_type": "code",
   "execution_count": 119,
   "id": "9f337a6c",
   "metadata": {},
   "outputs": [
    {
     "data": {
      "text/plain": [
       "tensor(1.6381, grad_fn=<NllLossBackward>)"
      ]
     },
     "execution_count": 119,
     "metadata": {},
     "output_type": "execute_result"
    }
   ],
   "source": [
    "emb=C[Xtr]\n",
    "h=torch.tanh(emb.view(-1,30) @ W1 + b1) #(--,100)   30 not 6 !\n",
    "logits= h @ W2 + b2 #(--,27)\n",
    "loss=F.cross_entropy(logits,Ytr)\n",
    "loss"
   ]
  },
  {
   "cell_type": "code",
   "execution_count": 120,
   "id": "80a8a9ca",
   "metadata": {},
   "outputs": [
    {
     "data": {
      "text/plain": [
       "tensor(1.8367, grad_fn=<NllLossBackward>)"
      ]
     },
     "execution_count": 120,
     "metadata": {},
     "output_type": "execute_result"
    }
   ],
   "source": [
    "emb=C[Xdev]\n",
    "h=torch.tanh(emb.view(-1,30) @ W1 + b1) #(--,100)\n",
    "logits= h @ W2 + b2 #(--,27)\n",
    "loss=F.cross_entropy(logits,Ydev)\n",
    "loss"
   ]
  },
  {
   "cell_type": "code",
   "execution_count": null,
   "id": "50dd7e6c",
   "metadata": {},
   "outputs": [],
   "source": [
    "# several (hyper)parameters to paly with: number of layer, numbers of neurons fro layers, embedding dimensions..dimension of the batches, learning rate....\n",
    "# now you can read the cited paper on language models......\n"
   ]
  },
  {
   "cell_type": "code",
   "execution_count": 123,
   "id": "fbe87be7",
   "metadata": {},
   "outputs": [
    {
     "name": "stdout",
     "output_type": "stream",
     "text": [
      "alfredano.\n",
      "modelfa.\n",
      "adamello.\n",
      "amo.\n",
      "remilo.\n",
      "lorettoriano.\n",
      "ferratuh.\n",
      "mariellevando.\n",
      "zaffiermilio.\n",
      "piererio.\n",
      "waltobrasio.\n",
      "amasinalda.\n",
      "fiorea.\n",
      "gabrina.\n",
      "illa.\n",
      "van.\n",
      "obilio.\n",
      "cedo.\n",
      "alfredana.\n",
      "age.\n",
      "raingelo.\n",
      "amario.\n",
      "ave.\n",
      "iotto.\n",
      "ariana.\n",
      "raulo.\n",
      "palmieze.\n",
      "mone.\n",
      "edea.\n",
      "armo.\n"
     ]
    }
   ],
   "source": [
    "# sampling from the model.....\n",
    "\n",
    "g=torch.Generator().manual_seed(12345678+10)\n",
    "\n",
    "for _ in range(30):\n",
    "    out=[]\n",
    "    context=[0]*block_size\n",
    "    while True:\n",
    "        emb=C[torch.tensor([context])]\n",
    "        h=torch.tanh(emb.view(1,-1) @ W1 + b1) \n",
    "        logits= h @ W2 + b2\n",
    "        probs=F.softmax(logits,dim=1)\n",
    "        ix=torch.multinomial(probs,num_samples=1,generator=g).item()\n",
    "        context=context[1:]+[ix]\n",
    "        out.append(ix)\n",
    "        if ix==0:\n",
    "            break\n",
    "        \n",
    "    print(''.join(itos[i] for i in out))\n",
    "        "
   ]
  },
  {
   "cell_type": "code",
   "execution_count": null,
   "id": "324b8ab8",
   "metadata": {},
   "outputs": [],
   "source": []
  }
 ],
 "metadata": {
  "kernelspec": {
   "display_name": "Python 3",
   "language": "python",
   "name": "python3"
  },
  "language_info": {
   "codemirror_mode": {
    "name": "ipython",
    "version": 3
   },
   "file_extension": ".py",
   "mimetype": "text/x-python",
   "name": "python",
   "nbconvert_exporter": "python",
   "pygments_lexer": "ipython3",
   "version": "3.8.8"
  }
 },
 "nbformat": 4,
 "nbformat_minor": 5
}
